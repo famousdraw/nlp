{
 "cells": [
  {
   "cell_type": "code",
   "execution_count": null,
   "metadata": {},
   "outputs": [],
   "source": []
  },
  {
   "cell_type": "code",
   "execution_count": 1,
   "metadata": {},
   "outputs": [
    {
     "name": "stdout",
     "output_type": "stream",
     "text": [
      "['assignment-07数据集/data/names\\\\Arabic.txt', 'assignment-07数据集/data/names\\\\Chinese.txt', 'assignment-07数据集/data/names\\\\Czech.txt', 'assignment-07数据集/data/names\\\\Dutch.txt', 'assignment-07数据集/data/names\\\\English.txt', 'assignment-07数据集/data/names\\\\French.txt', 'assignment-07数据集/data/names\\\\German.txt', 'assignment-07数据集/data/names\\\\Greek.txt', 'assignment-07数据集/data/names\\\\Irish.txt', 'assignment-07数据集/data/names\\\\Italian.txt', 'assignment-07数据集/data/names\\\\Japanese.txt', 'assignment-07数据集/data/names\\\\Korean.txt', 'assignment-07数据集/data/names\\\\Polish.txt', 'assignment-07数据集/data/names\\\\Portuguese.txt', 'assignment-07数据集/data/names\\\\Russian.txt', 'assignment-07数据集/data/names\\\\Scottish.txt', 'assignment-07数据集/data/names\\\\Spanish.txt', 'assignment-07数据集/data/names\\\\Vietnamese.txt']\n"
     ]
    }
   ],
   "source": [
    "from io import open\n",
    "import glob\n",
    "import os\n",
    "import matplotlib.pyplot as plt\n",
    "\n",
    "\n",
    "def find_files(path): return glob.glob(path)\n",
    "\n",
    "print(find_files('assignment-07数据集/data/names/*.txt'))"
   ]
  },
  {
   "cell_type": "code",
   "execution_count": 2,
   "metadata": {},
   "outputs": [
    {
     "name": "stdout",
     "output_type": "stream",
     "text": [
      "Slusarski\n"
     ]
    }
   ],
   "source": [
    "import unicodedata\n",
    "import string\n",
    "\n",
    "all_letters = string.ascii_letters + \" .,;'\"\n",
    "n_letters = len(all_letters)\n",
    "\n",
    "# Turn a Unicode string to plain ASCII, thanks to https://stackoverflow.com/a/518232/2809427\n",
    "def unicode_2_Ascii(s):\n",
    "    return ''.join(\n",
    "        c for c in unicodedata.normalize('NFD', s)\n",
    "        if unicodedata.category(c) != 'Mn'\n",
    "        and c in all_letters\n",
    "    )\n",
    "\n",
    "print(unicode_2_Ascii('Ślusàrski'))"
   ]
  },
  {
   "cell_type": "code",
   "execution_count": 51,
   "metadata": {},
   "outputs": [
    {
     "name": "stdout",
     "output_type": "stream",
     "text": [
      "abcdefghijklmnopqrstuvwxyzABCDEFGHIJKLMNOPQRSTUVWXYZ .,;'\n",
      "57\n"
     ]
    }
   ],
   "source": [
    "print(all_letters)\n",
    "print(len(all_letters))"
   ]
  },
  {
   "cell_type": "code",
   "execution_count": 17,
   "metadata": {},
   "outputs": [],
   "source": [
    "# Build the category_lines dictionary, a list of names per language\n",
    "category_lines = {}\n",
    "all_categories = []\n",
    "\n",
    "# Read a file and split into lines\n",
    "def read_lines(filename):\n",
    "    lines = open(filename, encoding='utf-8').read().strip().split('\\n')\n",
    "    return [unicode_2_Ascii(line) for line in lines]\n",
    "\n",
    "for filename in find_files('assignment-07数据集/data/names/*.txt'):\n",
    "    category = os.path.splitext(os.path.basename(filename))[0]\n",
    "    all_categories.append(category)\n",
    "    lines = read_lines(filename)\n",
    "    category_lines[category] = lines\n",
    "\n",
    "n_categories = len(all_categories)"
   ]
  },
  {
   "cell_type": "code",
   "execution_count": 19,
   "metadata": {},
   "outputs": [
    {
     "name": "stdout",
     "output_type": "stream",
     "text": [
      "18\n"
     ]
    }
   ],
   "source": [
    "print(len(all_categories))"
   ]
  },
  {
   "cell_type": "code",
   "execution_count": 43,
   "metadata": {},
   "outputs": [
    {
     "data": {
      "text/plain": [
       "['Ang', 'AuYong', 'Bai', 'Ban', 'Bao', 'Bei', 'Bian', 'Bui', 'Cai', 'Cao']"
      ]
     },
     "execution_count": 43,
     "metadata": {},
     "output_type": "execute_result"
    }
   ],
   "source": [
    "category_lines['Chinese'][:10]"
   ]
  },
  {
   "cell_type": "code",
   "execution_count": 77,
   "metadata": {},
   "outputs": [
    {
     "name": "stdout",
     "output_type": "stream",
     "text": [
      "35\n",
      "torch.Size([5, 1, 57])\n"
     ]
    }
   ],
   "source": [
    "import torch\n",
    "\n",
    "# Find letter index from all_letters, e.g. \"a\" = 0\n",
    "def letter_to_index(letter):\n",
    "    return all_letters.find(letter)\n",
    "\n",
    "# Just for demonstration, turn a letter into a <1 x n_letters> Tensor\n",
    "def letter_to_tensor(letter):\n",
    "    tensor = torch.zeros(1, n_letters)\n",
    "    tensor[0][letter_to_index(letter)] = 1\n",
    "    return tensor\n",
    "\n",
    "# Turn a line into a <line_length x 1 x n_letters>,\n",
    "# or an array of one-hot letter vectors\n",
    "def line_to_tensor(line):\n",
    "    tensor = torch.zeros(len(line), 1, n_letters)\n",
    "    for li, letter in enumerate(line):\n",
    "        tensor[li][0][letter_to_index(letter)] = 1\n",
    "    return tensor\n",
    "\n",
    "print(letter_to_index('J'))\n",
    "\n",
    "print(line_to_tensor('Jones').size())"
   ]
  },
  {
   "cell_type": "code",
   "execution_count": 78,
   "metadata": {},
   "outputs": [],
   "source": [
    "import torch.nn as nn\n",
    "\n",
    "class RNN(nn.Module):\n",
    "    def __init__(self,input_size,hidden_size,output_size):\n",
    "        super(RNN,self).__init__()\n",
    "        \n",
    "        self.hidden_size=hidden_size\n",
    "        \n",
    "        self.i2h = nn.Linear(input_size + hidden_size, hidden_size)\n",
    "        self.i2o = nn.Linear(input_size + hidden_size, output_size)\n",
    "        self.softmax = nn.LogSoftmax(dim=1)\n",
    "    \n",
    "    def forward(self,input,hidden):\n",
    "        combined = torch.cat((input,hidden),1)\n",
    "        hidden = self.i2h(combined)\n",
    "        output = self.i2o(combined)\n",
    "        output = self.softmax(output)\n",
    "        return output,hidden\n",
    "    \n",
    "    def initHidden(self):\n",
    "        return torch.zeros(1,self.hidden_size)\n",
    "    \n",
    "n_hidden=128"
   ]
  },
  {
   "cell_type": "code",
   "execution_count": 79,
   "metadata": {},
   "outputs": [],
   "source": [
    "rnn = RNN(n_letters,n_hidden,n_categories)"
   ]
  },
  {
   "cell_type": "code",
   "execution_count": 83,
   "metadata": {},
   "outputs": [],
   "source": [
    "input = letter_to_tensor('A')\n",
    "hidden = torch.zeros(1,n_hidden)\n",
    "\n",
    "output, next_hidden = rnn(input,hidden)"
   ]
  },
  {
   "cell_type": "code",
   "execution_count": 84,
   "metadata": {},
   "outputs": [
    {
     "data": {
      "text/plain": [
       "tensor([[-2.7949, -2.9423, -2.8141, -2.8904, -2.8186, -2.7994, -2.9244, -2.9434,\n",
       "         -2.9052, -2.9375, -3.0031, -2.8618, -2.9484, -2.8230, -2.8814, -2.8478,\n",
       "         -2.9250, -3.0034]], grad_fn=<LogSoftmaxBackward>)"
      ]
     },
     "execution_count": 84,
     "metadata": {},
     "output_type": "execute_result"
    }
   ],
   "source": [
    "output"
   ]
  },
  {
   "cell_type": "code",
   "execution_count": 85,
   "metadata": {},
   "outputs": [
    {
     "data": {
      "text/plain": [
       "tensor([[ 0.0399,  0.0012,  0.0448,  0.0186,  0.0153, -0.0354,  0.0441, -0.0342,\n",
       "          0.0803, -0.0449,  0.0590, -0.0602, -0.0437,  0.0662,  0.1126, -0.0263,\n",
       "         -0.0029,  0.0970,  0.0912,  0.0618,  0.1121,  0.0340, -0.0106,  0.0867,\n",
       "         -0.0240,  0.0070, -0.0854, -0.0493,  0.0371,  0.0114,  0.0075, -0.0102,\n",
       "         -0.0365, -0.0734,  0.0096,  0.0723,  0.0448, -0.1012, -0.0299, -0.0238,\n",
       "          0.0990,  0.0005, -0.0695, -0.0735, -0.0236,  0.0952,  0.1209,  0.0069,\n",
       "         -0.0061,  0.0548, -0.0762, -0.0329,  0.0056,  0.0542,  0.1066,  0.0106,\n",
       "         -0.0858, -0.0056,  0.0626,  0.0301, -0.0341, -0.0362, -0.0234, -0.0371,\n",
       "          0.0072,  0.0180,  0.0842, -0.1106, -0.0092, -0.0037,  0.0033, -0.0034,\n",
       "         -0.0369,  0.0515,  0.0089,  0.0646,  0.0249, -0.0865, -0.1179, -0.0149,\n",
       "         -0.0029,  0.0776, -0.0748, -0.0394,  0.1210, -0.0126,  0.0088,  0.0181,\n",
       "         -0.0608, -0.0764,  0.0004,  0.0365,  0.0180,  0.0406,  0.0437, -0.0506,\n",
       "          0.0730,  0.0135,  0.1188, -0.0051, -0.0273, -0.0929,  0.0820, -0.0132,\n",
       "          0.0976, -0.0090,  0.0256,  0.0051,  0.0082, -0.0641, -0.0591, -0.0053,\n",
       "         -0.0774, -0.0062,  0.1043,  0.0386,  0.0138, -0.1063,  0.0085, -0.0578,\n",
       "         -0.0135, -0.0691,  0.0280, -0.0789,  0.0197,  0.0453,  0.1238,  0.0980]],\n",
       "       grad_fn=<AddmmBackward>)"
      ]
     },
     "execution_count": 85,
     "metadata": {},
     "output_type": "execute_result"
    }
   ],
   "source": [
    "next_hidden"
   ]
  },
  {
   "cell_type": "code",
   "execution_count": 89,
   "metadata": {},
   "outputs": [
    {
     "name": "stdout",
     "output_type": "stream",
     "text": [
      "tensor([[-2.7949, -2.9423, -2.8141, -2.8904, -2.8186, -2.7994, -2.9244, -2.9434,\n",
      "         -2.9052, -2.9375, -3.0031, -2.8618, -2.9484, -2.8230, -2.8814, -2.8478,\n",
      "         -2.9250, -3.0034]], grad_fn=<LogSoftmaxBackward>)\n"
     ]
    }
   ],
   "source": [
    "input=line_to_tensor('Albert')\n",
    "hidden = torch.zeros(1,n_hidden)\n",
    "\n",
    "output,next_hidden = rnn(input[0],hidden)\n",
    "print(output)"
   ]
  },
  {
   "cell_type": "code",
   "execution_count": 91,
   "metadata": {},
   "outputs": [],
   "source": [
    "def category_from_output(output):\n",
    "    top_n,top_i=output.topk(1)\n",
    "    category_i = top_i[0].item()\n",
    "    return all_categories[category_i],category_i"
   ]
  },
  {
   "cell_type": "code",
   "execution_count": 92,
   "metadata": {},
   "outputs": [
    {
     "name": "stdout",
     "output_type": "stream",
     "text": [
      "('Arabic', 0)\n"
     ]
    }
   ],
   "source": [
    "print(category_from_output(output))"
   ]
  },
  {
   "cell_type": "code",
   "execution_count": 95,
   "metadata": {},
   "outputs": [
    {
     "name": "stdout",
     "output_type": "stream",
     "text": [
      "category = English / line = Hamnett\n",
      "category = Italian / line = Breda\n",
      "category = Czech / line = Klein\n",
      "category = Irish / line = O'Rourke\n",
      "category = German / line = Nussenbaum\n",
      "category = Korean / line = Jong\n",
      "category = Arabic / line = Fakhoury\n",
      "category = Vietnamese / line = Dao\n",
      "category = Irish / line = Dubhshlaine\n",
      "category = Japanese / line = Murkami\n"
     ]
    }
   ],
   "source": [
    "import random\n",
    "\n",
    "def sample(l):\n",
    "    return l[random.randint(0,len(l) - 1)]\n",
    "\n",
    "def sample_training():\n",
    "    category = sample(all_categories)\n",
    "    line = sample(category_lines[category])\n",
    "    category_tensor = torch.tensor([all_categories.index(category)],dtype=torch.long)\n",
    "    line_tensor = line_to_tensor(line)\n",
    "    return category, line, category_tensor, line_tensor\n",
    "\n",
    "for  i in range(10):\n",
    "    category, line, category_tensor, line_tensor= sample_training()\n",
    "    print('category =', category, '/ line =',line)"
   ]
  },
  {
   "cell_type": "code",
   "execution_count": 148,
   "metadata": {},
   "outputs": [
    {
     "data": {
      "text/plain": [
       "'Agroskin'"
      ]
     },
     "execution_count": 148,
     "metadata": {},
     "output_type": "execute_result"
    }
   ],
   "source": [
    "sample(category_lines[category])"
   ]
  },
  {
   "cell_type": "code",
   "execution_count": 152,
   "metadata": {},
   "outputs": [
    {
     "data": {
      "text/plain": [
       "'Russian'"
      ]
     },
     "execution_count": 152,
     "metadata": {},
     "output_type": "execute_result"
    }
   ],
   "source": [
    "category"
   ]
  },
  {
   "cell_type": "code",
   "execution_count": 163,
   "metadata": {},
   "outputs": [
    {
     "name": "stdout",
     "output_type": "stream",
     "text": [
      "English\n"
     ]
    }
   ],
   "source": [
    "category = sample(all_categories)\n",
    "print(category)"
   ]
  },
  {
   "cell_type": "code",
   "execution_count": 96,
   "metadata": {},
   "outputs": [],
   "source": [
    "criterion = nn.CrossEntropyLoss()"
   ]
  },
  {
   "cell_type": "code",
   "execution_count": 116,
   "metadata": {},
   "outputs": [],
   "source": [
    "learning_rate = 0.005  #If it is too big, it may explode. If it is too small, it may not learn\n",
    "def train(category_tensor,lien_tensor):\n",
    "    hidden = rnn.initHidden()\n",
    "    \n",
    "    rnn.zero_grad()\n",
    "    \n",
    "    for i in range(line_tensor.size()[0]):\n",
    "        output, hidden = rnn(line_tensor[i],hidden)\n",
    "    \n",
    "    loss = criterion(output,category_tensor)\n",
    "    loss.backward()\n",
    "    \n",
    "    #Add parameters' gradients to their values, multiplied by learning rate\n",
    "    for p in rnn.parameters():\n",
    "        p.data.add_(-learning_rate,p.grad.data)\n",
    "    \n",
    "    return output, loss.item()\n",
    "    "
   ]
  },
  {
   "cell_type": "code",
   "execution_count": 121,
   "metadata": {},
   "outputs": [
    {
     "name": "stdout",
     "output_type": "stream",
     "text": [
      "500 25% (0m 1s) 2.7699 Boyle / German ✗ (Scottish)\n",
      "1000 50% (0m 3s) 2.3262 Spicka / Czech ✓\n",
      "1500 75% (0m 4s) 2.9004 Dziadik / Polish ✗ (Czech)\n",
      "2000 100% (0m 6s) 1.8729 Nuryshev / Russian ✓\n"
     ]
    }
   ],
   "source": [
    "import time\n",
    "import math\n",
    "\n",
    "n_iters = 2000 # this number can be bigger from 1000\n",
    "print_every = 500\n",
    "plot_every = 100\n",
    "\n",
    "# Keep track of losses for plotting\n",
    "current_loss = 0\n",
    "all_losses = []\n",
    "\n",
    "def time_since(since):\n",
    "    now = time.time()\n",
    "    s = now - since\n",
    "    m = math.floor(s / 60)\n",
    "    s -= m * 60\n",
    "    return '%dm %ds' % (m,s)\n",
    "\n",
    "start = time.time()\n",
    "\n",
    "for iter  in range(1,n_iters + 1):\n",
    "    category, line, category_tensor, line_tensor = sample_training()\n",
    "    output, loss = train(category_tensor, line_tensor)\n",
    "    current_loss += loss\n",
    "    \n",
    "    # Print iter number, loss, name and guess\n",
    "    if iter % print_every == 0:\n",
    "        guess, guess_i = category_from_output(output)\n",
    "        correct = '✓' if guess == category else '✗ (%s)' % category\n",
    "        print('%d %d%% (%s) %.4f %s / %s %s' % (iter,iter/n_iters * 100,time_since(start),loss,line,guess,correct))\n",
    "    \n",
    "    #Add current loss avg to list  of losses\n",
    "    if iter % plot_every == 0:\n",
    "        all_losses.append(current_loss / plot_every)\n",
    "        current_loss =0"
   ]
  },
  {
   "cell_type": "code",
   "execution_count": 107,
   "metadata": {},
   "outputs": [
    {
     "data": {
      "text/plain": [
       "1583428005.278318"
      ]
     },
     "execution_count": 107,
     "metadata": {},
     "output_type": "execute_result"
    }
   ],
   "source": [
    "time.time()"
   ]
  },
  {
   "cell_type": "code",
   "execution_count": 109,
   "metadata": {},
   "outputs": [],
   "source": [
    "start = time.time()"
   ]
  },
  {
   "cell_type": "code",
   "execution_count": 122,
   "metadata": {},
   "outputs": [
    {
     "data": {
      "text/plain": [
       "[2.615960884690285,\n",
       " 2.6196786630153657,\n",
       " 2.5631195491552354,\n",
       " 2.519955166578293,\n",
       " 2.553340828418732,\n",
       " 2.4462936800718307,\n",
       " 2.561978155970573,\n",
       " 2.566467969417572,\n",
       " 2.4661015629768372,\n",
       " 2.5275044405460356,\n",
       " 2.428143560886383,\n",
       " 2.362739366889,\n",
       " 2.4081400537490847,\n",
       " 2.4935964381694795,\n",
       " 2.4749242627620696,\n",
       " 2.337780596613884,\n",
       " 2.2551531057059764,\n",
       " 2.4216844135522844,\n",
       " 2.524084583520889,\n",
       " 2.284292483925819]"
      ]
     },
     "execution_count": 122,
     "metadata": {},
     "output_type": "execute_result"
    }
   ],
   "source": [
    "all_losses"
   ]
  },
  {
   "cell_type": "code",
   "execution_count": 123,
   "metadata": {},
   "outputs": [],
   "source": [
    "%matplotlib inline"
   ]
  },
  {
   "cell_type": "code",
   "execution_count": 125,
   "metadata": {},
   "outputs": [],
   "source": [
    "#plt.plot(all_losses)"
   ]
  },
  {
   "cell_type": "code",
   "execution_count": 146,
   "metadata": {},
   "outputs": [
    {
     "name": "stdout",
     "output_type": "stream",
     "text": [
      "\n",
      " Dovesky\n",
      "(-2.08) Russian\n",
      "(-2.21) Polish\n",
      "(-2.28) Scottish\n",
      "\n",
      " Jackson\n",
      "(-1.79) Scottish\n",
      "(-2.17) Russian\n",
      "(-2.25) Irish\n",
      "\n",
      " Satoshi\n",
      "(-2.13) Polish\n",
      "(-2.25) Italian\n",
      "(-2.35) Japanese\n",
      "\n",
      " Jerry\n",
      "(-2.40) Arabic\n",
      "(-2.46) Czech\n",
      "(-2.47) Spanish\n"
     ]
    }
   ],
   "source": [
    "def evaluate(line_tensor):\n",
    "    hidden = rnn.initHidden()\n",
    "    \n",
    "    for i in range(line_tensor.size()[0]):\n",
    "        output,hidden = rnn(line_tensor[i],hidden)\n",
    "        \n",
    "    return output\n",
    "\n",
    "def predict(input_line,n_predictions=3):\n",
    "    print('\\n %s' % input_line)\n",
    "    with torch.no_grad():\n",
    "        output = evaluate(line_to_tensor(input_line))\n",
    "        \n",
    "        #Get top N categories\n",
    "        topv,topi = output.topk(n_predictions,1,True)\n",
    "        predictions = []\n",
    "        \n",
    "        for i in range(n_predictions):\n",
    "            value=topv[0][i].item()\n",
    "            category_index = topi[0][i].item()\n",
    "            print('(%.2f) %s' % (value,all_categories[category_index]))\n",
    "            predictions.append([value,all_categories[category_index]])\n",
    "\n",
    "predict('Dovesky')\n",
    "predict('Jackson')\n",
    "predict('Satoshi')\n",
    "predict('Jerry')"
   ]
  }
 ],
 "metadata": {
  "kernelspec": {
   "display_name": "Python 3",
   "language": "python",
   "name": "python3"
  },
  "language_info": {
   "codemirror_mode": {
    "name": "ipython",
    "version": 3
   },
   "file_extension": ".py",
   "mimetype": "text/x-python",
   "name": "python",
   "nbconvert_exporter": "python",
   "pygments_lexer": "ipython3",
   "version": "3.7.4"
  }
 },
 "nbformat": 4,
 "nbformat_minor": 2
}
