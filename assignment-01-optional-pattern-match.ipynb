{
 "cells": [
  {
   "cell_type": "markdown",
   "metadata": {},
   "source": [
    "### Assignment-01-附加题-极具挑战性的题目，基础一般的同学请把前边的做好就非常非常好了，这个是一个趣味题 😝"
   ]
  },
  {
   "cell_type": "markdown",
   "metadata": {},
   "source": [
    "## 基于模式匹配的对话机器人实现"
   ]
  },
  {
   "cell_type": "markdown",
   "metadata": {},
   "source": [
    "### Pattern Match\n",
    "\n",
    "机器能否实现对话，这个长久以来是衡量机器人是否具有智能的一个重要标志。 Alan Turing早在其文中就提出过一个测试机器智能程度的方法，该方法主要是考察人类是否能够通过对话内容区分对方是机器人还是真正的人类，如果人类无法区分，我们就称之为具有”智能“。而这个测试，后来被大家叫做”图灵测试“，之后也被翻拍成了一步著名电影，叫做《模拟游戏》。 \n",
    "\n",
    "\n",
    "\n",
    "既然图灵当年以此作为机器是否具备智能的标志，这项任务肯定是复杂的。自从 1960s 开始，诸多科学家就希望从各个方面来解决这个问题，直到如今，都只能解决一部分问题。 目前对话机器人的建立方法有很多，今天的作业中，我们为大家提供一共快速的基于模板的对话机器人配置方式。\n",
    "\n",
    "此次作业首先希望大家能够读懂这段程序的代码，其次，在此基于我们提供的代码，**能够把它改造成汉语版本，实现对话效果。**"
   ]
  },
  {
   "cell_type": "markdown",
   "metadata": {},
   "source": [
    "```\n",
    "Pattern: (我想要A)\n",
    "Response: (如果你有 A，对你意味着什么呢？)\n",
    "\n",
    "Input: (我想要度假)\n",
    "Response: (如果你有度假，对你意味着什么呢？)\n",
    "```"
   ]
  },
  {
   "cell_type": "markdown",
   "metadata": {},
   "source": [
    "为了实现模板的判断和定义，我们需要定义一个特殊的符号类型，这个符号类型就叫做\"variable\"， 这个\"variable\"用来表示是一个占位符。例如，定义一个目标: \"I want X\"， 我们可以表示成  \"I want ?X\", 意思就是?X是一个用来占位的符号。\n",
    "\n",
    "如果输入了\"I want holiday\"， 在这里 'holiday' 就是 '?X'"
   ]
  },
  {
   "cell_type": "code",
   "execution_count": 4,
   "metadata": {},
   "outputs": [],
   "source": [
    "def is_variable(pat):\n",
    "    return pat.startswith('?') and all(s.isalpha() for s in pat[1:])"
   ]
  },
  {
   "cell_type": "code",
   "execution_count": 107,
   "metadata": {},
   "outputs": [
    {
     "name": "stdout",
     "output_type": "stream",
     "text": [
      "True\n",
      "False\n"
     ]
    },
    {
     "data": {
      "text/plain": [
       "['?恭喜你考了一百分!']"
      ]
     },
     "execution_count": 107,
     "metadata": {},
     "output_type": "execute_result"
    }
   ],
   "source": [
    "import icecream as ic\n",
    "pat=\"?恭喜你考了一百分!\"\n",
    "print(pat.startswith('?'))\n",
    "print(all(s.isalpha() for s in pat[1:]))\n",
    "pat.split()"
   ]
  },
  {
   "cell_type": "code",
   "execution_count": 1296,
   "metadata": {},
   "outputs": [],
   "source": [
    "def pat_match(pattern, saying):\n",
    "    if is_variable(pattern[0]): return True\n",
    "    else:\n",
    "        if pattern[0] != saying[0]: return False\n",
    "        else:\n",
    "            return pat_match(pattern[1:], saying[1:])"
   ]
  },
  {
   "cell_type": "code",
   "execution_count": 436,
   "metadata": {},
   "outputs": [],
   "source": [
    "def pat_match2(pattern, saying):\n",
    "    if not pattern or not saying:\n",
    "        print(\"已经空了\")\n",
    "        return []\n",
    "    if is_variable(pattern[0]): \n",
    "        print('字符变量来了！')\n",
    "        print(pattern,saying)\n",
    "        print(pattern[0],saying[0])\n",
    "        #return [pattern[0],saying[0]]+pat_match2(pattern[1:], saying[1:])\n",
    "        return [[pattern[0],saying[0]]]+pat_match2(pattern[1:], saying[1:])\n",
    "    else:\n",
    "        if pattern[0] != saying[0]:\n",
    "            print('遇到不一致的字符！')\n",
    "            print(pattern)\n",
    "            return False\n",
    "        else:\n",
    "            print(\"递归调用\")\n",
    "            return pat_match2(pattern[1:], saying[1:])\n",
    "        "
   ]
  },
  {
   "cell_type": "code",
   "execution_count": 437,
   "metadata": {},
   "outputs": [
    {
     "name": "stdout",
     "output_type": "stream",
     "text": [
      "字符变量来了！\n",
      "['?X', 'equals', '?Y'] ['25', 'equals', '20+5']\n",
      "?X 25\n",
      "递归调用\n",
      "字符变量来了！\n",
      "['?Y'] ['20+5']\n",
      "?Y 20+5\n",
      "已经空了\n"
     ]
    },
    {
     "data": {
      "text/plain": [
       "[['?X', '25'], ['?Y', '20+5']]"
      ]
     },
     "execution_count": 437,
     "metadata": {},
     "output_type": "execute_result"
    }
   ],
   "source": [
    "pat_match2('?X equals ?Y'.split(), '25 equals 20+5'.split())"
   ]
  },
  {
   "cell_type": "code",
   "execution_count": 359,
   "metadata": {
    "scrolled": true
   },
   "outputs": [
    {
     "name": "stdout",
     "output_type": "stream",
     "text": [
      "字符变量来了！\n",
      "['?X'] ['holiday']\n",
      "已经空了\n"
     ]
    },
    {
     "data": {
      "text/plain": [
       "['?X', 'holiday']"
      ]
     },
     "execution_count": 359,
     "metadata": {},
     "output_type": "execute_result"
    }
   ],
   "source": [
    "pat_match2('I want ?X'.split(), \"I want holiday\".split())"
   ]
  },
  {
   "cell_type": "code",
   "execution_count": 409,
   "metadata": {},
   "outputs": [
    {
     "name": "stdout",
     "output_type": "stream",
     "text": [
      "['?X', 'holiday']\n"
     ]
    }
   ],
   "source": [
    "a =['?X'] +['holiday']\n",
    "print (a)"
   ]
  },
  {
   "cell_type": "markdown",
   "metadata": {},
   "source": [
    "### 例如"
   ]
  },
  {
   "cell_type": "code",
   "execution_count": 1297,
   "metadata": {},
   "outputs": [
    {
     "data": {
      "text/plain": [
       "True"
      ]
     },
     "execution_count": 1297,
     "metadata": {},
     "output_type": "execute_result"
    }
   ],
   "source": [
    "pat_match('I want ?X'.split(), \"I want holiday\".split())"
   ]
  },
  {
   "cell_type": "code",
   "execution_count": 1299,
   "metadata": {},
   "outputs": [
    {
     "data": {
      "text/plain": [
       "['I', 'want', '?X']"
      ]
     },
     "execution_count": 1299,
     "metadata": {},
     "output_type": "execute_result"
    }
   ],
   "source": [
    "'I want ?X'.split()"
   ]
  },
  {
   "cell_type": "code",
   "execution_count": 1300,
   "metadata": {},
   "outputs": [
    {
     "data": {
      "text/plain": [
       "['I', 'want', 'holiday']"
      ]
     },
     "execution_count": 1300,
     "metadata": {},
     "output_type": "execute_result"
    }
   ],
   "source": [
    "'I want holiday'.split()"
   ]
  },
  {
   "cell_type": "code",
   "execution_count": 1302,
   "metadata": {},
   "outputs": [
    {
     "data": {
      "text/plain": [
       "False"
      ]
     },
     "execution_count": 1302,
     "metadata": {},
     "output_type": "execute_result"
    }
   ],
   "source": [
    "pat_match('I have dreamed a ?X'.split(), \"I dreamed about dog\".split())"
   ]
  },
  {
   "cell_type": "code",
   "execution_count": 1304,
   "metadata": {},
   "outputs": [
    {
     "data": {
      "text/plain": [
       "True"
      ]
     },
     "execution_count": 1304,
     "metadata": {},
     "output_type": "execute_result"
    }
   ],
   "source": [
    "pat_match('I dreamed about ?X'.split(), \"I dreamed about dog\".split())"
   ]
  },
  {
   "cell_type": "markdown",
   "metadata": {},
   "source": [
    "### 获得匹配的变量"
   ]
  },
  {
   "cell_type": "markdown",
   "metadata": {},
   "source": [
    "以上的函数能够判断两个 pattern 是不是相符，但是我们更加希望的是获得每个variable对应的是什么值。\n",
    "\n",
    "我们对程序做如下修改:"
   ]
  },
  {
   "cell_type": "code",
   "execution_count": 1305,
   "metadata": {},
   "outputs": [],
   "source": [
    "def pat_match(pattern, saying):\n",
    "    if is_variable(pattern[0]):\n",
    "        return pattern[0], saying[0]\n",
    "    else:\n",
    "        if pattern[0] != saying[0]: return False\n",
    "        else:\n",
    "            return pat_match(pattern[1:], saying[1:])"
   ]
  },
  {
   "cell_type": "code",
   "execution_count": 1306,
   "metadata": {},
   "outputs": [
    {
     "name": "stdout",
     "output_type": "stream",
     "text": [
      "['I', 'want', '?X']\n",
      "['I', 'want', 'holiday']\n"
     ]
    }
   ],
   "source": [
    "print('I want ?X'.split())\n",
    "print(\"I want holiday\".split())"
   ]
  },
  {
   "cell_type": "code",
   "execution_count": 1290,
   "metadata": {},
   "outputs": [
    {
     "data": {
      "text/plain": [
       "False"
      ]
     },
     "execution_count": 1290,
     "metadata": {},
     "output_type": "execute_result"
    }
   ],
   "source": [
    "pat_match(pattern, saying)"
   ]
  },
  {
   "cell_type": "code",
   "execution_count": 1291,
   "metadata": {},
   "outputs": [
    {
     "data": {
      "text/plain": [
       "('?X', '2+2')"
      ]
     },
     "execution_count": 1291,
     "metadata": {},
     "output_type": "execute_result"
    }
   ],
   "source": [
    "pat_match(\"?X equals ?X\".split(), \"2+2 equals 2+2\".split())"
   ]
  },
  {
   "cell_type": "markdown",
   "metadata": {},
   "source": [
    "但是，如果我们的 Pattern 中具备两个变量，那么以上程序就不能解决了，我们可以对程序做如下修改: \n"
   ]
  },
  {
   "cell_type": "code",
   "execution_count": 1337,
   "metadata": {},
   "outputs": [],
   "source": [
    "def pat_match(pattern, saying):\n",
    "    if not pattern or not saying: return []\n",
    "    \n",
    "    if is_variable(pattern[0]):\n",
    "        #print(\"变量来了\",pattern[0],saying[0])\n",
    "        return [(pattern[0], saying[0])] + pat_match(pattern[1:], saying[1:])\n",
    "    else:\n",
    "        if pattern[0] != saying[0]:\n",
    "            #print(\"different way!\",\"pattern[0]\",pattern[0],\"saying[0]\",saying[0])\n",
    "            return []\n",
    "        else:\n",
    "            return pat_match(pattern[1:], saying[1:])"
   ]
  },
  {
   "cell_type": "markdown",
   "metadata": {},
   "source": [
    "于是，我们可以获得： "
   ]
  },
  {
   "cell_type": "code",
   "execution_count": 1116,
   "metadata": {},
   "outputs": [
    {
     "name": "stdout",
     "output_type": "stream",
     "text": [
      "变量来了 ?X 35\n",
      "different way! pattern[0] greater saying[0] plus\n"
     ]
    },
    {
     "data": {
      "text/plain": [
       "[('?X', '35')]"
      ]
     },
     "execution_count": 1116,
     "metadata": {},
     "output_type": "execute_result"
    }
   ],
   "source": [
    "pat_match(\"?X greater than ?Y\".split(), \"35 plus 28 greater than 2\".split())"
   ]
  },
  {
   "cell_type": "markdown",
   "metadata": {},
   "source": [
    "如果我们知道了每个变量对应的是什么，那么我们就可以很方便的使用我们定义好的模板进行替换："
   ]
  },
  {
   "cell_type": "markdown",
   "metadata": {},
   "source": [
    "为了方便接下来的替换工作，我们新建立两个函数，一个是把我们解析出来的结果变成一个 dictionary，一个是依据这个 dictionary 依照我们的定义的方式进行替换。"
   ]
  },
  {
   "cell_type": "code",
   "execution_count": 1308,
   "metadata": {},
   "outputs": [],
   "source": [
    "def pat_to_dict(patterns):\n",
    "    return {k: v for k, v in patterns}"
   ]
  },
  {
   "cell_type": "code",
   "execution_count": 591,
   "metadata": {},
   "outputs": [
    {
     "name": "stdout",
     "output_type": "stream",
     "text": [
      "?1 like\n",
      "?2 think\n",
      "{'?2': 'think'}\n",
      "['about']\n",
      "//////////////\n",
      "['what']\n",
      "['do']\n",
      "['think']\n",
      "['What', 'if', 'you', 'mean', 'if', 'you', 'got', 'a', '?X']\n",
      "['What']\n",
      "['if', 'you', 'mean', 'if', 'you', 'got', 'a', '?X']\n",
      "[['?X']]\n",
      "['?X'] 不是空的\n"
     ]
    }
   ],
   "source": [
    "patterns=[[\"?1\",\"like\"],['?2','think']]\n",
    "a={}\n",
    "for k,v in patterns:\n",
    "    a={k:v}\n",
    "    print (k,a[k])\n",
    "print(a)    \n",
    "a.get(\"what\")\n",
    "b=[a.get(\"about\",\"about\")]\n",
    "print(b)\n",
    "print(\"//////////////\")\n",
    "b=[a.get(\"what\",\"what\")]\n",
    "print(b)\n",
    "b=[a.get(\"do\",\"do\")]\n",
    "print(b)\n",
    "b=[a.get(\"?2\",\"?2\")]\n",
    "print(b)\n",
    "a_split=\"What if you mean if you got a ?X\".split()\n",
    "print(a_split)\n",
    "print([a_split[0]])\n",
    "print(a_split[1:])\n",
    "print([a_split[8:]])\n",
    "if (a_split[8:]):\n",
    "    print(a_split[8:],\"不是空的\")"
   ]
  },
  {
   "cell_type": "code",
   "execution_count": 1309,
   "metadata": {},
   "outputs": [],
   "source": [
    "def subsitite(rule, parsed_rules):\n",
    "    if not rule: return []\n",
    "    \n",
    "    return [parsed_rules.get(rule[0], rule[0])] + subsitite(rule[1:], parsed_rules)\n",
    "    "
   ]
  },
  {
   "cell_type": "code",
   "execution_count": 1310,
   "metadata": {},
   "outputs": [
    {
     "name": "stdout",
     "output_type": "stream",
     "text": [
      "变量来了 ?X iPhone\n"
     ]
    }
   ],
   "source": [
    "got_patterns = pat_match(\"I want ?X\".split(), \"I want iPhone\".split())"
   ]
  },
  {
   "cell_type": "code",
   "execution_count": 1311,
   "metadata": {},
   "outputs": [
    {
     "data": {
      "text/plain": [
       "[('?X', 'iPhone')]"
      ]
     },
     "execution_count": 1311,
     "metadata": {},
     "output_type": "execute_result"
    }
   ],
   "source": [
    "got_patterns"
   ]
  },
  {
   "cell_type": "code",
   "execution_count": 1312,
   "metadata": {},
   "outputs": [
    {
     "data": {
      "text/plain": [
       "['What', 'if', 'you', 'mean', 'if', 'you', 'got', 'a', 'iPhone']"
      ]
     },
     "execution_count": 1312,
     "metadata": {},
     "output_type": "execute_result"
    }
   ],
   "source": [
    "subsitite(\"What if you mean if you got a ?X\".split(), pat_to_dict(got_patterns))"
   ]
  },
  {
   "cell_type": "markdown",
   "metadata": {},
   "source": [
    "为了将以上输出变成一句话，也很简单，我们使用 Python 的 join 方法即可： "
   ]
  },
  {
   "cell_type": "code",
   "execution_count": 1313,
   "metadata": {},
   "outputs": [
    {
     "name": "stdout",
     "output_type": "stream",
     "text": [
      "变量来了 ?P John\n",
      "变量来了 ?X resting\n"
     ]
    }
   ],
   "source": [
    "john_pat = pat_match('?P needs ?X'.split(), \"John needs resting\".split())"
   ]
  },
  {
   "cell_type": "code",
   "execution_count": 1315,
   "metadata": {},
   "outputs": [
    {
     "name": "stdout",
     "output_type": "stream",
     "text": [
      "[('?P', 'John'), ('?X', 'resting')]\n"
     ]
    }
   ],
   "source": [
    "print(john_pat)"
   ]
  },
  {
   "cell_type": "code",
   "execution_count": 1316,
   "metadata": {},
   "outputs": [
    {
     "data": {
      "text/plain": [
       "{'?P': 'John', '?X': 'resting'}"
      ]
     },
     "execution_count": 1316,
     "metadata": {},
     "output_type": "execute_result"
    }
   ],
   "source": [
    "pat_to_dict(john_pat)"
   ]
  },
  {
   "cell_type": "code",
   "execution_count": 1314,
   "metadata": {},
   "outputs": [
    {
     "data": {
      "text/plain": [
       "'What if you mean if you got a iPhone'"
      ]
     },
     "execution_count": 1314,
     "metadata": {},
     "output_type": "execute_result"
    }
   ],
   "source": [
    "' '.join(subsitite(\"What if you mean if you got a ?X\".split(), pat_to_dict(got_patterns)))"
   ]
  },
  {
   "cell_type": "code",
   "execution_count": 606,
   "metadata": {},
   "outputs": [],
   "source": [
    "john_pat = pat_match('?P needs ?X'.split(), \"John needs vacation\".split())"
   ]
  },
  {
   "cell_type": "code",
   "execution_count": 609,
   "metadata": {},
   "outputs": [
    {
     "data": {
      "text/plain": [
       "[('?P', 'John'), ('?X', 'vacation')]"
      ]
     },
     "execution_count": 609,
     "metadata": {},
     "output_type": "execute_result"
    }
   ],
   "source": [
    "john_pat\n"
   ]
  },
  {
   "cell_type": "code",
   "execution_count": 607,
   "metadata": {},
   "outputs": [
    {
     "data": {
      "text/plain": [
       "['Why', 'does', 'John', 'need', 'vacation', '?']"
      ]
     },
     "execution_count": 607,
     "metadata": {},
     "output_type": "execute_result"
    }
   ],
   "source": [
    "subsitite(\"Why does ?P need ?X ?\".split(), pat_to_dict(john_pat))"
   ]
  },
  {
   "cell_type": "code",
   "execution_count": 610,
   "metadata": {},
   "outputs": [
    {
     "data": {
      "text/plain": [
       "'Why does John need vacation ?'"
      ]
     },
     "execution_count": 610,
     "metadata": {},
     "output_type": "execute_result"
    }
   ],
   "source": [
    "' '.join(subsitite(\"Why does ?P need ?X ?\".split(), pat_to_dict(john_pat)))"
   ]
  },
  {
   "cell_type": "markdown",
   "metadata": {},
   "source": [
    "那么如果我们现在定义一些patterns，就可以实现基于模板的对话生成了:"
   ]
  },
  {
   "cell_type": "code",
   "execution_count": 611,
   "metadata": {},
   "outputs": [],
   "source": [
    "defined_patterns = {\n",
    "    \"I need ?X\": [\"Image you will get ?X soon\", \"Why do you need ?X ?\"], \n",
    "    \"My ?X told me something\": [\"Talk about more about your ?X\", \"How do you think about your ?X ?\"]\n",
    "}"
   ]
  },
  {
   "cell_type": "code",
   "execution_count": 959,
   "metadata": {},
   "outputs": [],
   "source": [
    "def get_response(saying, *rules):\n",
    "    \"\"\"\" please implement the code, to get the response as followings:\n",
    "    \n",
    "    >>> get_response('I need iPhone') \n",
    "    >>> Image you will get iPhone soon\n",
    "    >>> get_response(\"My mother told me something\")\n",
    "    >>> Talk about more about your monther.\n",
    "    \"\"\"\n",
    "    #subsitite(\"Why does ?P need ?X ?\".split(), pat_to_dict(john_pat))\n",
    "    #print(\"subsitite\")\n",
    "    #print(saying)\n",
    "    import random\n",
    "    \n",
    "    for k,v in defined_patterns.items():\n",
    "        \n",
    "        #print(k.split(),v[0].split(),saying.split())\n",
    "        rule=pat_match(k.split(),saying.split())\n",
    "        if rule:\n",
    "            direction=random.randint(0,len(v)-1)\n",
    "            #print(direction)\n",
    "            #print(rule)\n",
    "            out_put=subsitite(v[direction].split(),pat_to_dict(rule))\n",
    "    return(' '.join(out_put))\n",
    "    #pass\n",
    "    "
   ]
  },
  {
   "cell_type": "code",
   "execution_count": 942,
   "metadata": {},
   "outputs": [
    {
     "data": {
      "text/plain": [
       "2"
      ]
     },
     "execution_count": 942,
     "metadata": {},
     "output_type": "execute_result"
    }
   ],
   "source": [
    "import random\n",
    "random.randint(0,2)"
   ]
  },
  {
   "cell_type": "code",
   "execution_count": 1374,
   "metadata": {},
   "outputs": [
    {
     "data": {
      "text/plain": [
       "'How do you think about your mother ?'"
      ]
     },
     "execution_count": 1374,
     "metadata": {},
     "output_type": "execute_result"
    }
   ],
   "source": [
    "#get_response('I need iPhone')\n",
    "get_response(\"My mother told me to be a good man\")"
   ]
  },
  {
   "cell_type": "markdown",
   "metadata": {},
   "source": [
    "> **评阅点**: 运行代码，是否能够实现基本的语言问答"
   ]
  },
  {
   "cell_type": "markdown",
   "metadata": {},
   "source": [
    "### Segment Match"
   ]
  },
  {
   "cell_type": "markdown",
   "metadata": {},
   "source": [
    "我们上边的这种形式，能够进行一些初级的对话了，但是我们的模式逐字逐句匹配的， \"I need iPhone\" 和 \"I need ?X\" 可以匹配，但是\"I need an iPhone\" 和 \"I need ?X\" 就不匹配了，那怎么办？ \n",
    "\n",
    "为了解决这个问题，我们可以新建一个变量类型 \"?\\*X\", 这种类型多了一个星号(\\*),表示匹配多个"
   ]
  },
  {
   "cell_type": "markdown",
   "metadata": {},
   "source": [
    "首先，和前文类似，我们需要定义一个判断是不是匹配多个的variable"
   ]
  },
  {
   "cell_type": "code",
   "execution_count": 966,
   "metadata": {},
   "outputs": [],
   "source": [
    "def is_pattern_segment(pattern):\n",
    "    return pattern.startswith('?*') and all(a.isalpha() for a in pattern[2:])"
   ]
  },
  {
   "cell_type": "code",
   "execution_count": 1082,
   "metadata": {},
   "outputs": [
    {
     "data": {
      "text/plain": [
       "True"
      ]
     },
     "execution_count": 1082,
     "metadata": {},
     "output_type": "execute_result"
    }
   ],
   "source": [
    "is_pattern_segment('?*P')"
   ]
  },
  {
   "cell_type": "code",
   "execution_count": 969,
   "metadata": {},
   "outputs": [],
   "source": [
    "from collections import defaultdict"
   ]
  },
  {
   "cell_type": "markdown",
   "metadata": {},
   "source": [
    "然后我们把之前的 ```pat_match```程序改写成如下， 主要是增加了 ``` is_pattern_segment ```的部分. "
   ]
  },
  {
   "cell_type": "code",
   "execution_count": 2450,
   "metadata": {},
   "outputs": [],
   "source": [
    "#fail = [True, None]\n",
    "fail = (True, None)#匹配失败默认返回\n",
    "#Input：pattern(语法模板) 类似:'?*P is very good'\n",
    "#saying(要匹配的话)类似:'My dog and my cat is very good' \n",
    "#Output :匹配的结果，在这是应该是(('?P', ['My', 'dog', 'and', 'my', 'cat']), 5)\n",
    "\n",
    "def pat_match_with_seg(pattern, saying):\n",
    "    if not pattern or not saying: return []  #Base Case\n",
    "    pat = pattern[0]\n",
    "    if is_variable(pat):#pattern[0]如果代表单个占位符\n",
    "        return [(pat, saying[0])] + pat_match_with_seg(pattern[1:], saying[1:])\n",
    "    elif is_pattern_segment(pat):#pattern[0]如果代表多个占位符\n",
    "        match, index = segment_match(pattern, saying)#调用\n",
    "        #print(match)\n",
    "        if(match[1]==False):#匹配失败，增加的  这个地方一定要有[1]！！\n",
    "            #print(\"pat_match_with_seg 匹配失败\")\n",
    "            return [fail]\n",
    "        else:\n",
    "            return [match] + pat_match_with_seg(pattern[1:], saying[index:])\n",
    "    elif pat == saying[0]:#pattern[0]如果与saying[0]相同\n",
    "        return pat_match_with_seg(pattern[1:], saying[1:])\n",
    "    else:\n",
    "        return [fail]\n",
    "        "
   ]
  },
  {
   "cell_type": "markdown",
   "metadata": {},
   "source": [
    "这段程序里比较重要的一个新函数是 ```segment_match```，这个函数输入是一个以 ```segment_pattern```开头的模式，尽最大可能进行，匹配到这个*边长*的变量对于的部分。"
   ]
  },
  {
   "cell_type": "code",
   "execution_count": 2449,
   "metadata": {},
   "outputs": [],
   "source": [
    "#当pattern[0]= ?*X 时，判断pattern是否与saying匹配\n",
    "#如果匹配成功则返回匹配的 配对，如果失败返回Flase\n",
    "def segment_match(pattern, saying):\n",
    "    seg_pat, rest = pattern[0], pattern[1:]\n",
    "    seg_pat = seg_pat.replace('?*', '?')  #'?*P'->'?P'\n",
    "    #如果pattern ?*后面无元素，那么?*匹配saying当前所有元素\n",
    "    if not rest: return (seg_pat, saying), len(saying)    \n",
    "    #寻找pattern?*之后的元素在saying的位置\n",
    "    for i, token in enumerate(saying):\n",
    "        #print(\"开始匹配:\",i,token)\n",
    "        if rest[0] == token and is_match(rest[1:], saying[(i + 1):]):\n",
    "            #print (\"token:\",token,\" 匹配成功\")\n",
    "            #print(\"返回seg_pat\",seg_pat,\"saying[:i]\",saying[:i],\"字符串长度\",i)\n",
    "            return (seg_pat, saying[:i]), i\n",
    "    #print(\"没有匹配成功！\")\n",
    "    #如果pattern?* 后面的的元素都不与saying匹配，那么?*匹配失败\n",
    "    #print(\"匹配失败,seg_pat:\",seg_pat,\"False\",\"len(saying)\",len(saying))\n",
    "    return (seg_pat, False), len(saying)\n",
    "    #return [],0\n",
    "\n",
    "def is_match(rest, saying):\n",
    "    \n",
    "    #print(rest,saying)\n",
    "    if not rest and not saying:\n",
    "        #print(\"is_match? coming to end of saying, return True\")\n",
    "        return True\n",
    "    #实现 输入是'真是 非常 ?X' 和 '真是 非常 搭配呢'的匹配\n",
    "    if not all(a.isalpha() for a in rest[0]):\n",
    "        #print(rest[0])\n",
    "        return True\n",
    "    if rest[0] != saying[0]:\n",
    "        return False\n",
    "    return is_match(rest[1:], saying[1:])"
   ]
  },
  {
   "cell_type": "code",
   "execution_count": 2263,
   "metadata": {},
   "outputs": [
    {
     "data": {
      "text/plain": [
       "(('?P', ['My', 'dog', 'and', 'my', 'cat']), 5)"
      ]
     },
     "execution_count": 2263,
     "metadata": {},
     "output_type": "execute_result"
    }
   ],
   "source": [
    "segment_match('?*P is very good'.split(), \"My dog and my cat is very good\".split())"
   ]
  },
  {
   "cell_type": "markdown",
   "metadata": {},
   "source": [
    "现在，我们就可以做到以下的匹配模式了: "
   ]
  },
  {
   "cell_type": "code",
   "execution_count": 2416,
   "metadata": {},
   "outputs": [
    {
     "name": "stdout",
     "output_type": "stream",
     "text": [
      "('?P', ['My', 'dog'])\n",
      "('?X', ['my', 'cat', 'is', 'very', 'cute'])\n",
      "[('?P', ['My', 'dog']), ('?X', ['my', 'cat', 'is', 'very', 'cute'])]\n"
     ]
    }
   ],
   "source": [
    "print(pat_match_with_seg('?*P is very good and ?*X'.split(), \"My dog is very good and my cat is very cute\".split()))"
   ]
  },
  {
   "cell_type": "code",
   "execution_count": 2264,
   "metadata": {},
   "outputs": [
    {
     "name": "stdout",
     "output_type": "stream",
     "text": [
      "('?P', False)\n"
     ]
    },
    {
     "data": {
      "text/plain": [
       "[('?P', False)]"
      ]
     },
     "execution_count": 2264,
     "metadata": {},
     "output_type": "execute_result"
    }
   ],
   "source": [
    "pat_match_with_seg('?*P is good and ?*X'.split(), \"My dog is very good and my cat is very cute\".split())"
   ]
  },
  {
   "cell_type": "code",
   "execution_count": 2265,
   "metadata": {},
   "outputs": [
    {
     "name": "stdout",
     "output_type": "stream",
     "text": [
      "('?x', [])\n",
      "('?y', ['water'])\n"
     ]
    },
    {
     "data": {
      "text/plain": [
       "['I', 'want', 'to', 'drink', 'water']"
      ]
     },
     "execution_count": 2265,
     "metadata": {},
     "output_type": "execute_result"
    }
   ],
   "source": [
    "subsitite(\"I want to drink water\".split(),pat_to_dict(pat_match_with_seg('?*x I want ?*y'.split(),'I want water'.split())))"
   ]
  },
  {
   "cell_type": "markdown",
   "metadata": {},
   "source": [
    "如果我们继续定义一些模板，我们进行匹配，就能够进行更加复杂的问题了: "
   ]
  },
  {
   "cell_type": "code",
   "execution_count": 1446,
   "metadata": {},
   "outputs": [],
   "source": [
    "response_pair = {\n",
    "    'I need ?X': [\n",
    "        \"Why do you neeed ?X\"\n",
    "    ],\n",
    "    \"I dont like my ?X\": [\"What bad things did ?X do for you?\"]\n",
    "}"
   ]
  },
  {
   "cell_type": "code",
   "execution_count": 1390,
   "metadata": {},
   "outputs": [
    {
     "data": {
      "text/plain": [
       "[('?X', ['an', 'iPhone'])]"
      ]
     },
     "execution_count": 1390,
     "metadata": {},
     "output_type": "execute_result"
    }
   ],
   "source": [
    "pat_match_with_seg('I need ?*X'.split(), \n",
    "                  \"I need an iPhone\".split())"
   ]
  },
  {
   "cell_type": "code",
   "execution_count": 2005,
   "metadata": {},
   "outputs": [
    {
     "name": "stdout",
     "output_type": "stream",
     "text": [
      "('?X', ['an', 'iPhone'])\n"
     ]
    },
    {
     "data": {
      "text/plain": [
       "['Why', 'do', 'you', 'neeed', 'an iPhone']"
      ]
     },
     "execution_count": 2005,
     "metadata": {},
     "output_type": "execute_result"
    }
   ],
   "source": [
    "subsitite(\"Why do you neeed ?X\".split(), pat_to_dict(pat_match_with_seg('I need ?*X'.split(), \n",
    "                  \"I need an iPhone\".split())))"
   ]
  },
  {
   "cell_type": "code",
   "execution_count": 1392,
   "metadata": {},
   "outputs": [
    {
     "name": "stdout",
     "output_type": "stream",
     "text": [
      "['Why', 'do', 'you', 'neeed', ['an', 'iPhone']]\n"
     ]
    },
    {
     "data": {
      "text/plain": [
       "{'?X': 'an iPhone'}"
      ]
     },
     "execution_count": 1392,
     "metadata": {},
     "output_type": "execute_result"
    }
   ],
   "source": [
    "#test\n",
    "test_1=['Why', 'do', 'you', 'neeed', ['an', 'iPhone']]\n",
    "print(test_1)\n",
    "test_pat=[('?X', 'an iPhone')]\n",
    "pat_to_dict(test_pat)\n"
   ]
  },
  {
   "cell_type": "code",
   "execution_count": 1328,
   "metadata": {},
   "outputs": [
    {
     "name": "stdout",
     "output_type": "stream",
     "text": [
      "{'?X': ['two', 'iPhone']}\n",
      "{'?X': ['two', 'iPhone']}\n",
      "?X ['two', 'iPhone']\n",
      "it is list\n",
      "['two', 'iPhone']\n",
      "['?X', 'two iPhone']\n",
      "{'?X': 'two iPhone'}\n"
     ]
    }
   ],
   "source": [
    "test_pat=[('?X', ['two','iPhone'])]\n",
    "print(pat_to_dict(test_pat))\n",
    "print(pat_to_dict(test_pat))\n",
    "for k,v in pat_to_dict(test_pat).items():\n",
    "    print(k,v)\n",
    "    if isinstance(v,list):\n",
    "        print(\"it is list\")\n",
    "for k,v in test_pat:\n",
    "    if isinstance(v,list):\n",
    "        print(v)\n",
    "        v=' '.join(v)\n",
    "        test_pat=[k,v]\n",
    "    else:\n",
    "        print(\"not a list\")\n",
    "        print(v)\n",
    "print(test_pat)\n",
    "print(pat_to_dict([('?X','two iPhone')]))\n",
    "#pat_to_dict(test_pat)"
   ]
  },
  {
   "cell_type": "markdown",
   "metadata": {},
   "source": [
    " 我们会发现，pat_to_dict在这个场景下会有有一点小问题，没关系，修正一些: "
   ]
  },
  {
   "cell_type": "code",
   "execution_count": 2266,
   "metadata": {},
   "outputs": [],
   "source": [
    "def pat_to_dict(patterns):\n",
    "    return {k: ' '.join(v) if isinstance(v, list) else v for k, v in patterns}"
   ]
  },
  {
   "cell_type": "code",
   "execution_count": 2267,
   "metadata": {},
   "outputs": [
    {
     "name": "stdout",
     "output_type": "stream",
     "text": [
      "('?X', ['an', 'iPhone'])\n"
     ]
    },
    {
     "data": {
      "text/plain": [
       "['Why', 'do', 'you', 'neeed', 'an iPhone']"
      ]
     },
     "execution_count": 2267,
     "metadata": {},
     "output_type": "execute_result"
    }
   ],
   "source": [
    "subsitite(\"Why do you neeed ?X\".split(), pat_to_dict(pat_match_with_seg('I need ?*X'.split(), \n",
    "                  \"I need an iPhone\".split())))"
   ]
  },
  {
   "cell_type": "code",
   "execution_count": 2268,
   "metadata": {},
   "outputs": [
    {
     "name": "stdout",
     "output_type": "stream",
     "text": [
      "('?X', ['an', 'iPhone'])\n"
     ]
    },
    {
     "data": {
      "text/plain": [
       "{'?X': 'an iPhone'}"
      ]
     },
     "execution_count": 2268,
     "metadata": {},
     "output_type": "execute_result"
    }
   ],
   "source": [
    "pat_to_dict(pat_match_with_seg('I need ?*X'.split(), \"I need an iPhone\".split()))"
   ]
  },
  {
   "cell_type": "markdown",
   "metadata": {},
   "source": [
    "如果我们定义这样的一个模板:"
   ]
  },
  {
   "cell_type": "code",
   "execution_count": 2269,
   "metadata": {},
   "outputs": [
    {
     "name": "stdout",
     "output_type": "stream",
     "text": [
      "('?X', ['I', 'am', 'mike,'])\n"
     ]
    },
    {
     "data": {
      "text/plain": [
       "['Hi,', 'how', 'do', 'you', 'do?']"
      ]
     },
     "execution_count": 2269,
     "metadata": {},
     "output_type": "execute_result"
    }
   ],
   "source": [
    "subsitite(\"Hi, how do you do?\".split(),pat_to_dict(pat_match_with_seg(\n",
    "    '?*X hello ?*Y'.split(), \"I am mike, hello \".split())))"
   ]
  },
  {
   "cell_type": "markdown",
   "metadata": {},
   "source": [
    "### 现在是你的时间了"
   ]
  },
  {
   "cell_type": "code",
   "execution_count": 2158,
   "metadata": {},
   "outputs": [],
   "source": [
    "#我们给大家一些例子: \n",
    "    \n",
    "rules = {\n",
    "    \"?*X hello ?*Y\": [\"Hi, how do you do?\"],\n",
    "    \"I was ?*X\": [\"Were you really ?X ?\", \"I already knew you were ?X .\"],\n",
    "    \"My ?X told me something\": [\"Talk about more about your ?X\", \"How do you think about your ?X ?\"],\n",
    "    \"Where ?*X\":[\"I come from america\"],\n",
    "    \"?*X哪里\":[\"我来自美国\"],\n",
    "    \"?*X\":['Please speake more']\n",
    "}"
   ]
  },
  {
   "cell_type": "markdown",
   "metadata": {},
   "source": [
    "### 问题1"
   ]
  },
  {
   "cell_type": "markdown",
   "metadata": {},
   "source": [
    "编写一个程序, ```get_response(saying, response_rules)```输入是一个字符串 + 我们定义的 rules，例如上边我们所写的 pattern， 输出是一个回答。"
   ]
  },
  {
   "cell_type": "markdown",
   "metadata": {},
   "source": [
    "> **评阅点**： get_response是否定义完整，功能是否齐备"
   ]
  },
  {
   "cell_type": "code",
   "execution_count": 2146,
   "metadata": {},
   "outputs": [],
   "source": [
    "def get_response(saying,response_rules):\n",
    "    import random\n",
    "    i=0\n",
    "    for k,v in response_rules.items():\n",
    "        #print(k.split(),v[0].split(),saying.split())\n",
    "        #print(k.split(),saying.split())\n",
    "        #print(i)\n",
    "        i+=1\n",
    "        rule=pat_match_with_seg(k.split(),saying.split())\n",
    "        #print(\"here is is, rule:\",rule)\n",
    "        if rule!= [[], True, None] and rule !=[True, None]:\n",
    "            #print(\"匹配成功!!\")\n",
    "            direction=random.randint(0,len(v)-1)\n",
    "            #print(rule,v[direction])\n",
    "            #print(v[direction].split())\n",
    "            #print(rule)\n",
    "            #print(pat_to_dict(rule))\n",
    "            out_put=subsitite((v[direction].split()),pat_to_dict(rule))\n",
    "            #print(' '.join(out_put))\n",
    "            return (' '.join(out_put))\n",
    "    return('Sorry, chatting robot NO. 6 don\\'t understantd!')\n",
    "    #return(' '.join(out_put))\n",
    "    #pass\n"
   ]
  },
  {
   "cell_type": "code",
   "execution_count": 2443,
   "metadata": {},
   "outputs": [
    {
     "name": "stdout",
     "output_type": "stream",
     "text": [
      "?*x hello ?*y ['How do you do', 'Please state your problem']\n",
      "0\n",
      "匹配失败,seg_pat: ?x False len(saying) 5\n",
      "pat_match_with_seg 匹配失败\n",
      "规则匹配中: [(True, None)]\n",
      "规则已匹配 [(True, None)]\n",
      "['?*x', 'hello', '?*y']\n"
     ]
    },
    {
     "data": {
      "text/plain": [
       "'Please state your problem'"
      ]
     },
     "execution_count": 2443,
     "metadata": {},
     "output_type": "execute_result"
    }
   ],
   "source": [
    "#get_response(\"I am mike, hello\",rules)\n",
    "get_response(\"I was very happy yesterday\",rules)\n",
    "#get_response(\"Where do you come from\",rules)\n",
    "#get_response(\"你来自美国吗\",rules)"
   ]
  },
  {
   "cell_type": "markdown",
   "metadata": {},
   "source": [
    "### 问题2"
   ]
  },
  {
   "cell_type": "markdown",
   "metadata": {},
   "source": [
    "改写以上程序，将程序变成能够支持中文输入的模式。\n",
    "*提示*: 你可以需用用到 jieba 分词"
   ]
  },
  {
   "cell_type": "markdown",
   "metadata": {},
   "source": [
    "> **评阅点**： 是否能够支持中文问题，jieba分词的使用"
   ]
  },
  {
   "cell_type": "code",
   "execution_count": 1862,
   "metadata": {},
   "outputs": [],
   "source": [
    "def cut(string): \n",
    "    import jieba\n",
    "    cut_unclean  = [word for word in jieba.lcut(string) if word!=' ']\n",
    "    cut_clean = []\n",
    "    i = 0\n",
    "    j = 0\n",
    "    while(i < len(cut_unclean)):\n",
    "        if(cut_unclean[i] == '?' and i<len(cut_unclean)-2 and cut_unclean[i+1]=='*' ):\n",
    "            cut_clean.append(str(cut_unclean[i]+ cut_unclean[i+1] + cut_unclean[i+2]))\n",
    "            i += 3\n",
    "        elif(cut_unclean[i] == '?' and  i<len(cut_unclean)- 1):\n",
    "            cut_clean.append(str(cut_unclean[i]+ cut_unclean[i+1]))\n",
    "            i += 2\n",
    "        else:\n",
    "            cut_clean.append(cut_unclean[i])\n",
    "            i +=1\n",
    "    return cut_clean\n"
   ]
  },
  {
   "cell_type": "code",
   "execution_count": 2444,
   "metadata": {},
   "outputs": [
    {
     "name": "stdout",
     "output_type": "stream",
     "text": [
      "['?*x', '机器人', '?*y']\n",
      "['你', '是', '机器人', '吗', '？']\n"
     ]
    },
    {
     "data": {
      "text/plain": [
       "[('?x', ['你', '觉得']), ('?y', ['有', '智能', '吗'])]"
      ]
     },
     "execution_count": 2444,
     "metadata": {},
     "output_type": "execute_result"
    }
   ],
   "source": [
    "print(cut('?*x机器人?*y'))\n",
    "print(cut(\"你是机器人吗？\"))\n",
    "pat_match_with_seg(cut('?*x机器人?*y'),cut(\"你觉得机器人有智能吗\")) "
   ]
  },
  {
   "cell_type": "code",
   "execution_count": 2388,
   "metadata": {},
   "outputs": [],
   "source": [
    "def get_response_chinese_support_old(saying,rules):\n",
    "    import random\n",
    "    i=0\n",
    "    for k,v in rules.items():\n",
    "        #print(k,v)\n",
    "        #print(cut(k),cut(saying))\n",
    "        print(i)\n",
    "        i+=1\n",
    "        rule=pat_match_with_seg(cut(k),cut(saying))\n",
    "        print(\"规则匹配中:\",rule)\n",
    "        if rule!= [[], True, None] and rule !=[True, None]:\n",
    "            print(\"规则已匹配\",rule)\n",
    "            print(cut(k))\n",
    "            #print(rule,v[direction])\n",
    "            #print(cut(v[direction]))\n",
    "            #print(rule)\n",
    "            #print(pat_to_dict(rule))\n",
    "            out_put=subsitite(cut(random.choice(rules[k])),pat_to_dict(rule))\n",
    "            #print(' '.join(out_put))\n",
    "            return (' '.join(out_put))\n",
    "    #return('Sorry, chatting robot NO. 6 don\\'t understantd!')\n",
    "    #return(' '.join(out_put))\n",
    "    #pass\n"
   ]
  },
  {
   "cell_type": "code",
   "execution_count": 2390,
   "metadata": {},
   "outputs": [
    {
     "name": "stdout",
     "output_type": "stream",
     "text": [
      "?*x hello ?*y ['How do you do', 'Please state your problem']\n",
      "0\n",
      "('?x', False)\n",
      "规则匹配中: [('?x', False)]\n",
      "规则已匹配 [('?x', False)]\n",
      "['?*x', 'hello', '?*y']\n"
     ]
    },
    {
     "data": {
      "text/plain": [
       "'Please state your problem'"
      ]
     },
     "execution_count": 2390,
     "metadata": {},
     "output_type": "execute_result"
    }
   ],
   "source": [
    "get_response(\"你是机器人吗?\",rules)\n",
    "#get_response(\"因为爱所以爱?\",rule_responses)\n",
    "#get_response(\"就像从来没有发生过一样?\",rule_responses)\n",
    "#get_response(\"你是周杰伦吗?\",rule_responses)\n",
    "#get_response(\"你喜欢看书\",rule_responses)"
   ]
  },
  {
   "cell_type": "code",
   "execution_count": 2470,
   "metadata": {},
   "outputs": [],
   "source": [
    "def get_response_chinese_support(saying,rules):\n",
    "    get_pattern=[True,None]\n",
    "    for pattern in rules:\n",
    "        #print(pattern)\n",
    "        get_pattern=pat_match_with_seg(cut(pattern),cut(saying))\n",
    "        if((True,None)) not in get_pattern:\n",
    "            break\n",
    "        #if (False) in get_pattern:\n",
    "        #    break\n",
    "    if get_pattern==[]:return 'what you input do not have pattern yet'\n",
    "    #print(get_pattern)\n",
    "    return ' '.join(subsitite(cut(random.choice(rules[pattern])),pat_to_dict(get_pattern)))\n",
    "        "
   ]
  },
  {
   "cell_type": "code",
   "execution_count": 2484,
   "metadata": {},
   "outputs": [
    {
     "data": {
      "text/plain": [
       "'我 听到 你 这么 说 ， 也 很 难过'"
      ]
     },
     "execution_count": 2484,
     "metadata": {},
     "output_type": "execute_result"
    }
   ],
   "source": [
    "get_response_chinese_support(\"我有些难过\",rules)\n"
   ]
  },
  {
   "cell_type": "code",
   "execution_count": 1960,
   "metadata": {},
   "outputs": [
    {
     "data": {
      "text/plain": [
       "['?*x', '我', '想要', '?*yxx']"
      ]
     },
     "execution_count": 1960,
     "metadata": {},
     "output_type": "execute_result"
    }
   ],
   "source": [
    "cut(\"?*x我想要?*yxx\")"
   ]
  },
  {
   "cell_type": "code",
   "execution_count": 2469,
   "metadata": {},
   "outputs": [
    {
     "name": "stdout",
     "output_type": "stream",
     "text": [
      "你 觉得 事情 变成 什么样 ， 你 就 不 难过 了 ?\n"
     ]
    }
   ],
   "source": [
    "#saying=\"有的人是好人\"\n",
    "saying=\"我有些难过\"\n",
    "#print(\"1: saying\",saying)\n",
    "get_pattern=[True,None]\n",
    "'''\n",
    "get_pattern=pat_match_with_seg(cut(\"?*x有的人?*y\"),cut(saying))\n",
    "print(pat_to_dict(get_pattern))\n",
    "print(get_pattern)\n",
    "print(' '.join(subsitite(cut(random.choice(rules[pattern])),pat_to_dict(get_pattern))))\n",
    "print(\"checking\")\n",
    "'''\n",
    "for pattern in rules:\n",
    "    #print(\"2. cut(pattern)\",cut(pattern),\"cut(saying)\",cut(saying))\n",
    "    get_pattern=pat_match_with_seg(cut(pattern),cut(saying))\n",
    "    #print(\"3.get_pattern\",get_pattern)\n",
    "    if((True,None)) not in get_pattern:\n",
    "        #print(get_pattern)\n",
    "        #print(\"not True,None\")\n",
    "        break\n",
    "    #if (False) in get_pattern:\n",
    "    #    break\n",
    "    if get_pattern==[]:print('what you input do not have pattern yet')\n",
    "    #print(get_pattern)\n",
    "print(' '.join(subsitite(cut(random.choice(rules[pattern])),pat_to_dict(get_pattern))))\n"
   ]
  },
  {
   "cell_type": "code",
   "execution_count": 2445,
   "metadata": {},
   "outputs": [
    {
     "data": {
      "text/plain": [
       "[('?x', []), ('?y', ['是', '好人'])]"
      ]
     },
     "execution_count": 2445,
     "metadata": {},
     "output_type": "execute_result"
    }
   ],
   "source": [
    "pat_match_with_seg(cut(\"?*x有的人?*y\"),cut(\"有的人是好人\"))\n",
    "#get_response_chinese_support(cut(\"?*x有的人?*y\"),cut(\"有的人是好人\"),rules)\n",
    "#get_response_chinese_support(\"可能人就是这样\",rules)\n",
    "#\n",
    "#get_response_chinese_support(\"AI真的很厉害吗\",rules)"
   ]
  },
  {
   "cell_type": "code",
   "execution_count": null,
   "metadata": {},
   "outputs": [],
   "source": []
  },
  {
   "cell_type": "markdown",
   "metadata": {},
   "source": [
    "### 问题3"
   ]
  },
  {
   "cell_type": "markdown",
   "metadata": {},
   "source": [
    "多设计一些模式，让这个程序变得更好玩，多和大家交流，看看大家有什么好玩的模式"
   ]
  },
  {
   "cell_type": "markdown",
   "metadata": {},
   "source": [
    "> **评阅点**: 是否设计了更有趣的点？"
   ]
  },
  {
   "cell_type": "markdown",
   "metadata": {},
   "source": [
    "### 问题4"
   ]
  },
  {
   "cell_type": "markdown",
   "metadata": {},
   "source": [
    "1. 这样的程序有什么优点？有什么缺点？你有什么可以改进的方法吗？ \n",
    "2. 什么是数据驱动？数据驱动在这个程序里如何体现？\n",
    "3. 数据驱动与 AI 的关系是什么？ \n"
   ]
  },
  {
   "cell_type": "markdown",
   "metadata": {},
   "source": [
    "> **评阅点**: 是否提出了比较有意义的问题？对于数据驱动是否理解到位？"
   ]
  },
  {
   "cell_type": "markdown",
   "metadata": {},
   "source": [
    "一些参考 pattern"
   ]
  },
  {
   "cell_type": "code",
   "execution_count": 2366,
   "metadata": {},
   "outputs": [],
   "source": [
    "rules = {\n",
    "    '?*x hello ?*y': ['How do you do', 'Please state your problem'],\n",
    "    '?*x I want ?*y': ['what would it mean if you got ?y', 'Why do you want ?y', 'Suppose you got ?y soon'],\n",
    "    '?*x if ?*y': ['Do you really think its likely that ?y', 'Do you wish that ?y', 'What do you think about ?y', 'Really-- if ?y'],\n",
    "    '?*x no ?*y': ['why not?', 'You are being a negative', 'Are you saying \\'No\\' just to be negative?'],\n",
    "    '?*x I was ?*y': ['Were you really', 'Perhaps I already knew you were ?y', 'Why do you tell me you were ?y now?'],\n",
    "    '?*x I feel ?*y': ['Do you often feel ?y ?', 'What other feelings do you have?'],\n",
    "    '?*x你好?*y': ['你好呀', '请告诉我你的问题'],\n",
    "    '?*x我想?*y': ['你觉得?y有什么意义呢？', '为什么你想?y', '你可以想想你很快就可以?y了'],\n",
    "    '?*x我想要?*y': ['?x想问你，你觉得?y有什么意义呢?', '为什么你想?y', '?x觉得... 你可以想想你很快就可以有?y了', '你看?x像?y不', '我看你就像?y'],\n",
    "    '?*x喜欢?*y': ['喜欢?y的哪里？', '?y有什么好的呢？', '你想要?y吗？'],\n",
    "    '?*x讨厌?*y': ['?y怎么会那么讨厌呢?', '讨厌?y的哪里？', '?y有什么不好呢？', '你不想要?y吗？'],\n",
    "    '?*xAI?*y': ['你为什么要提AI的事情？', '你为什么觉得AI要解决你的问题？'],\n",
    "    '?*x机器人?*y': ['你为什么要提机器人的事情？', '你为什么觉得机器人要解决你的问题？'],\n",
    "    '?*x对不起?*y': ['不用道歉', '你为什么觉得你需要道歉呢?'],\n",
    "    '?*x我记得?*y': ['你经常会想起这个吗？', '除了?y你还会想起什么吗？', '你为什么和我提起?y'],\n",
    "    '?*x如果?*y': ['你真的觉得?y会发生吗？', '你希望?y吗?', '真的吗？如果?y的话', '关于?y你怎么想？'],\n",
    "    '?*x我?*z梦见?*y':['真的吗? --- ?y', '你在醒着的时候，以前想象过?y吗？', '你以前梦见过?y吗'],\n",
    "    '?*x妈妈?*y': ['你家里除了?y还有谁?', '嗯嗯，多说一点和你家里有关系的', '她对你影响很大吗？'],\n",
    "    '?*x爸爸?*y': ['你家里除了?y还有谁?', '嗯嗯，多说一点和你家里有关系的', '他对你影响很大吗？', '每当你想起你爸爸的时候， 你还会想起其他的吗?'],\n",
    "    '?*x我愿意?*y': ['我可以帮你?y吗？', '你可以解释一下，为什么想?y'],\n",
    "    '?*x我很难过，因为?*y': ['我听到你这么说， 也很难过', '?y不应该让你这么难过的'],\n",
    "    '?*x难过?*y': ['我听到你这么说， 也很难过',\n",
    "                 '不应该让你这么难过的，你觉得你拥有什么，就会不难过?',\n",
    "                 '你觉得事情变成什么样，你就不难过了?'],\n",
    "    '?*x就像?*y': ['你觉得?x和?y有什么相似性？', '?x和?y真的有关系吗？', '怎么说？'],\n",
    "    '?*x和?*y都?*z': ['你觉得?z有什么问题吗?', '?z会对你有什么影响呢?'],\n",
    "    '?*x和?*y一样?*z': ['你觉得?z有什么问题吗?', '?z会对你有什么影响呢?'],\n",
    "    '?*x我是?*y': ['真的吗？', '?x想告诉你，或许我早就知道你是?y', '你为什么现在才告诉我你是?y'],\n",
    "    '?*x我是?*y吗': ['如果你是?y会怎么样呢？', '你觉得你是?y吗', '如果你是?y，那一位着什么?'],\n",
    "    '?*x你是?*y吗':  ['你为什么会对我是不是?y感兴趣?', '那你希望我是?y吗', '你要是喜欢， 我就会是?y'],\n",
    "    '?*x你是?*y' : ['为什么你觉得我是?y'],\n",
    "    '?*x因为?*y' : ['?y是真正的原因吗？', '你觉得会有其他原因吗?'],\n",
    "    '?*x我不能?*y': ['你或许现在就能?*y', '如果你能?*y,会怎样呢？'],\n",
    "    '?*x我觉得?*y': ['你经常这样感觉吗？', '除了到这个，你还有什么其他的感觉吗？'],\n",
    "    '?*x我?*y你?*z': ['其实很有可能我们互相?y'],\n",
    "    '?*x你为什么不?*y': ['你自己为什么不?y', '你觉得我不会?y', '等我心情好了，我就?y'],\n",
    "    '?*x好的?*y': ['好的', '你是一个很正能量的人'],\n",
    "    '?*x嗯嗯?*y': ['好的', '你是一个很正能量的人'],\n",
    "    '?*x不嘛?*y': ['为什么不？', '你有一点负能量', '你说 不，是想表达不想的意思吗？'],\n",
    "    '?*x不要?*y': ['为什么不？', '你有一点负能量', '你说 不，是想表达不想的意思吗？'],\n",
    "    '?*x有些人?*y': ['具体是哪些人呢?'],\n",
    "    '?*x有的人?*y': ['具体是哪些人呢?'],\n",
    "    '?*x某些人?*y': ['具体是哪些人呢?'],\n",
    "    '?*x每个人?*y': ['我确定不是人人都是', '你能想到一点特殊情况吗？', '例如谁？', '你看到的其实只是一小部分人'],\n",
    "    '?*x所有人?*y': ['我确定不是人人都是', '你能想到一点特殊情况吗？', '例如谁？', '你看到的其实只是一小部分人'],\n",
    "    '?*x总是?*y': ['你能想到一些其他情况吗?', '例如什么时候?', '你具体是说哪一次？', '真的---总是吗？'],\n",
    "    '?*x一直?*y': ['你能想到一些其他情况吗?', '例如什么时候?', '你具体是说哪一次？', '真的---总是吗？'],\n",
    "    '?*x或许?*y': ['你看起来不太确定'],\n",
    "    '?*x可能?*y': ['你看起来不太确定'],\n",
    "    '?*x他们是?*y吗？': ['你觉得他们可能不是?y？'],\n",
    "    '?*x': ['很有趣', '请继续', '我不太确定我很理解你说的, 能稍微详细解释一下吗?']\n",
    "}\n"
   ]
  }
 ],
 "metadata": {
  "kernelspec": {
   "display_name": "Python 3",
   "language": "python",
   "name": "python3"
  },
  "language_info": {
   "codemirror_mode": {
    "name": "ipython",
    "version": 3
   },
   "file_extension": ".py",
   "mimetype": "text/x-python",
   "name": "python",
   "nbconvert_exporter": "python",
   "pygments_lexer": "ipython3",
   "version": "3.7.4"
  },
  "latex_envs": {
   "LaTeX_envs_menu_present": true,
   "autoclose": false,
   "autocomplete": true,
   "bibliofile": "biblio.bib",
   "cite_by": "apalike",
   "current_citInitial": 1,
   "eqLabelWithNumbers": true,
   "eqNumInitial": 1,
   "hotkeys": {
    "equation": "Ctrl-E",
    "itemize": "Ctrl-I"
   },
   "labels_anchors": false,
   "latex_user_defs": false,
   "report_style_numbering": false,
   "user_envs_cfg": false
  }
 },
 "nbformat": 4,
 "nbformat_minor": 2
}
