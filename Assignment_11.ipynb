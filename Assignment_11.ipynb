{
 "cells": [
  {
   "cell_type": "markdown",
   "metadata": {},
   "source": [
    "##   Todo: Parse Solution is our homework"
   ]
  },
  {
   "cell_type": "code",
   "execution_count": 1,
   "metadata": {},
   "outputs": [],
   "source": [
    "solution = {}"
   ]
  },
  {
   "cell_type": "code",
   "execution_count": 2,
   "metadata": {},
   "outputs": [],
   "source": [
    "from functools import lru_cache"
   ]
  },
  {
   "cell_type": "code",
   "execution_count": 207,
   "metadata": {},
   "outputs": [],
   "source": [
    "@lru_cache(maxsize=2**10)\n",
    "def edit_distance(string1, string2):\n",
    "    \n",
    "    if len(string1) == 0: return len(string2)\n",
    "    if len(string2) == 0: return len(string1)\n",
    "    \n",
    "    tail_s1 = string1[-1]\n",
    "    tail_s2 = string2[-1]\n",
    "    \n",
    "    candidates = [\n",
    "        (edit_distance(string1[:-1], string2) + 1, 'DEL {}'.format(tail_s1)),  \n",
    "        # string 1 delete tail\n",
    "        (edit_distance(string1, string2[:-1]) + 1, 'ADD {}'.format(tail_s2)),  \n",
    "        # string 1 add tail of string2\n",
    "    ]\n",
    "    print('candidates:',candidates)\n",
    "    if tail_s1 == tail_s2:\n",
    "        print(\"tail_s1=tail_s2\")\n",
    "        print(tail_s1,tail_s2)\n",
    "        print(string1,string2)\n",
    "        both_forward = (edit_distance(string1[:-1], string2[:-1]) + 0, 'EQUAL')\n",
    "    else:\n",
    "        print(\"tail_s1!=tail_s2\")\n",
    "        print(tail_s1,tail_s2)\n",
    "        print(string1,string2)\n",
    "        both_forward = (edit_distance(string1[:-1], string2[:-1]) + 1, 'SUB {} => {}'.format(tail_s1, tail_s2))\n",
    "\n",
    "    candidates.append(both_forward)\n",
    "    \n",
    "    min_distance, operation = min(candidates, key=lambda x: x[0])\n",
    "    print(min_distance,operation)\n",
    "    solution[(string1, string2)] = operation \n",
    "    \n",
    "    return min_distance"
   ]
  },
  {
   "cell_type": "code",
   "execution_count": 141,
   "metadata": {},
   "outputs": [
    {
     "name": "stdout",
     "output_type": "stream",
     "text": [
      "ABCDECG ABCCEF\n",
      "G F\n"
     ]
    }
   ],
   "source": [
    "string1='ABCDECG'\n",
    "string2='ABCCEF'\n",
    "tail_s1=string1[-1]\n",
    "tail_s2=string2[-1]\n",
    "print(string1,string2)\n",
    "print (tail_s1,tail_s2)"
   ]
  },
  {
   "cell_type": "code",
   "execution_count": null,
   "metadata": {},
   "outputs": [],
   "source": []
  },
  {
   "cell_type": "code",
   "execution_count": 208,
   "metadata": {},
   "outputs": [
    {
     "name": "stdout",
     "output_type": "stream",
     "text": [
      "candidates: [(2, 'DEL A'), (2, 'ADD A')]\n",
      "tail_s1=tail_s2\n",
      "A A\n",
      "A A\n",
      "0 EQUAL\n",
      "candidates: [(3, 'DEL A'), (1, 'ADD B')]\n",
      "tail_s1!=tail_s2\n",
      "A B\n",
      "A AB\n",
      "1 ADD B\n",
      "candidates: [(4, 'DEL A'), (2, 'ADD C')]\n",
      "tail_s1!=tail_s2\n",
      "A C\n",
      "A ABC\n",
      "2 ADD C\n",
      "candidates: [(5, 'DEL A'), (3, 'ADD C')]\n",
      "tail_s1!=tail_s2\n",
      "A C\n",
      "A ABCC\n",
      "3 ADD C\n",
      "candidates: [(6, 'DEL A'), (4, 'ADD E')]\n",
      "tail_s1!=tail_s2\n",
      "A E\n",
      "A ABCCE\n",
      "4 ADD E\n",
      "candidates: [(7, 'DEL A'), (5, 'ADD F')]\n",
      "tail_s1!=tail_s2\n",
      "A F\n",
      "A ABCCEF\n",
      "5 ADD F\n",
      "candidates: [(1, 'DEL B'), (3, 'ADD A')]\n",
      "tail_s1!=tail_s2\n",
      "B A\n",
      "AB A\n",
      "1 DEL B\n",
      "candidates: [(2, 'DEL B'), (2, 'ADD B')]\n",
      "tail_s1=tail_s2\n",
      "B B\n",
      "AB AB\n",
      "0 EQUAL\n",
      "candidates: [(3, 'DEL B'), (1, 'ADD C')]\n",
      "tail_s1!=tail_s2\n",
      "B C\n",
      "AB ABC\n",
      "1 ADD C\n",
      "candidates: [(4, 'DEL B'), (2, 'ADD C')]\n",
      "tail_s1!=tail_s2\n",
      "B C\n",
      "AB ABCC\n",
      "2 ADD C\n",
      "candidates: [(5, 'DEL B'), (3, 'ADD E')]\n",
      "tail_s1!=tail_s2\n",
      "B E\n",
      "AB ABCCE\n",
      "3 ADD E\n",
      "candidates: [(6, 'DEL B'), (4, 'ADD F')]\n",
      "tail_s1!=tail_s2\n",
      "B F\n",
      "AB ABCCEF\n",
      "4 ADD F\n",
      "candidates: [(2, 'DEL C'), (4, 'ADD A')]\n",
      "tail_s1!=tail_s2\n",
      "C A\n",
      "ABC A\n",
      "2 DEL C\n",
      "candidates: [(1, 'DEL C'), (3, 'ADD B')]\n",
      "tail_s1!=tail_s2\n",
      "C B\n",
      "ABC AB\n",
      "1 DEL C\n",
      "candidates: [(2, 'DEL C'), (2, 'ADD C')]\n",
      "tail_s1=tail_s2\n",
      "C C\n",
      "ABC ABC\n",
      "0 EQUAL\n",
      "candidates: [(3, 'DEL C'), (1, 'ADD C')]\n",
      "tail_s1=tail_s2\n",
      "C C\n",
      "ABC ABCC\n",
      "1 ADD C\n",
      "candidates: [(4, 'DEL C'), (2, 'ADD E')]\n",
      "tail_s1!=tail_s2\n",
      "C E\n",
      "ABC ABCCE\n",
      "2 ADD E\n",
      "candidates: [(5, 'DEL C'), (3, 'ADD F')]\n",
      "tail_s1!=tail_s2\n",
      "C F\n",
      "ABC ABCCEF\n",
      "3 ADD F\n",
      "candidates: [(3, 'DEL D'), (5, 'ADD A')]\n",
      "tail_s1!=tail_s2\n",
      "D A\n",
      "ABCD A\n",
      "3 DEL D\n",
      "candidates: [(2, 'DEL D'), (4, 'ADD B')]\n",
      "tail_s1!=tail_s2\n",
      "D B\n",
      "ABCD AB\n",
      "2 DEL D\n",
      "candidates: [(1, 'DEL D'), (3, 'ADD C')]\n",
      "tail_s1!=tail_s2\n",
      "D C\n",
      "ABCD ABC\n",
      "1 DEL D\n",
      "candidates: [(2, 'DEL D'), (2, 'ADD C')]\n",
      "tail_s1!=tail_s2\n",
      "D C\n",
      "ABCD ABCC\n",
      "1 SUB D => C\n",
      "candidates: [(3, 'DEL D'), (2, 'ADD E')]\n",
      "tail_s1!=tail_s2\n",
      "D E\n",
      "ABCD ABCCE\n",
      "2 ADD E\n",
      "candidates: [(4, 'DEL D'), (3, 'ADD F')]\n",
      "tail_s1!=tail_s2\n",
      "D F\n",
      "ABCD ABCCEF\n",
      "3 ADD F\n",
      "candidates: [(4, 'DEL E'), (6, 'ADD A')]\n",
      "tail_s1!=tail_s2\n",
      "E A\n",
      "ABCDE A\n",
      "4 DEL E\n",
      "candidates: [(3, 'DEL E'), (5, 'ADD B')]\n",
      "tail_s1!=tail_s2\n",
      "E B\n",
      "ABCDE AB\n",
      "3 DEL E\n",
      "candidates: [(2, 'DEL E'), (4, 'ADD C')]\n",
      "tail_s1!=tail_s2\n",
      "E C\n",
      "ABCDE ABC\n",
      "2 DEL E\n",
      "candidates: [(2, 'DEL E'), (3, 'ADD C')]\n",
      "tail_s1!=tail_s2\n",
      "E C\n",
      "ABCDE ABCC\n",
      "2 DEL E\n",
      "candidates: [(3, 'DEL E'), (3, 'ADD E')]\n",
      "tail_s1=tail_s2\n",
      "E E\n",
      "ABCDE ABCCE\n",
      "1 EQUAL\n",
      "candidates: [(4, 'DEL E'), (2, 'ADD F')]\n",
      "tail_s1!=tail_s2\n",
      "E F\n",
      "ABCDE ABCCEF\n",
      "2 ADD F\n",
      "candidates: [(5, 'DEL C'), (7, 'ADD A')]\n",
      "tail_s1!=tail_s2\n",
      "C A\n",
      "ABCDEC A\n",
      "5 DEL C\n",
      "candidates: [(4, 'DEL C'), (6, 'ADD B')]\n",
      "tail_s1!=tail_s2\n",
      "C B\n",
      "ABCDEC AB\n",
      "4 DEL C\n",
      "candidates: [(3, 'DEL C'), (5, 'ADD C')]\n",
      "tail_s1=tail_s2\n",
      "C C\n",
      "ABCDEC ABC\n",
      "3 DEL C\n",
      "candidates: [(3, 'DEL C'), (4, 'ADD C')]\n",
      "tail_s1=tail_s2\n",
      "C C\n",
      "ABCDEC ABCC\n",
      "2 EQUAL\n",
      "candidates: [(2, 'DEL C'), (3, 'ADD E')]\n",
      "tail_s1!=tail_s2\n",
      "C E\n",
      "ABCDEC ABCCE\n",
      "2 DEL C\n",
      "candidates: [(3, 'DEL C'), (3, 'ADD F')]\n",
      "tail_s1!=tail_s2\n",
      "C F\n",
      "ABCDEC ABCCEF\n",
      "2 SUB C => F\n",
      "candidates: [(6, 'DEL G'), (8, 'ADD A')]\n",
      "tail_s1!=tail_s2\n",
      "G A\n",
      "ABCDECG A\n",
      "6 DEL G\n",
      "candidates: [(5, 'DEL G'), (7, 'ADD B')]\n",
      "tail_s1!=tail_s2\n",
      "G B\n",
      "ABCDECG AB\n",
      "5 DEL G\n",
      "candidates: [(4, 'DEL G'), (6, 'ADD C')]\n",
      "tail_s1!=tail_s2\n",
      "G C\n",
      "ABCDECG ABC\n",
      "4 DEL G\n",
      "candidates: [(3, 'DEL G'), (5, 'ADD C')]\n",
      "tail_s1!=tail_s2\n",
      "G C\n",
      "ABCDECG ABCC\n",
      "3 DEL G\n",
      "candidates: [(3, 'DEL G'), (4, 'ADD E')]\n",
      "tail_s1!=tail_s2\n",
      "G E\n",
      "ABCDECG ABCCE\n",
      "3 DEL G\n",
      "candidates: [(3, 'DEL G'), (4, 'ADD F')]\n",
      "tail_s1!=tail_s2\n",
      "G F\n",
      "ABCDECG ABCCEF\n",
      "3 DEL G\n"
     ]
    },
    {
     "data": {
      "text/plain": [
       "3"
      ]
     },
     "execution_count": 208,
     "metadata": {},
     "output_type": "execute_result"
    }
   ],
   "source": [
    "edit_distance('ABCDECG','ABCCEF')"
   ]
  },
  {
   "cell_type": "code",
   "execution_count": 221,
   "metadata": {},
   "outputs": [
    {
     "data": {
      "text/plain": [
       "{('A', 'A'): 'EQUAL',\n",
       " ('A', 'AB'): 'ADD B',\n",
       " ('A', 'ABC'): 'ADD C',\n",
       " ('A', 'ABCC'): 'ADD C',\n",
       " ('A', 'ABCCE'): 'ADD E',\n",
       " ('A', 'ABCCEF'): 'ADD F',\n",
       " ('AB', 'A'): 'DEL B',\n",
       " ('AB', 'AB'): 'EQUAL',\n",
       " ('AB', 'ABC'): 'ADD C',\n",
       " ('AB', 'ABCC'): 'ADD C',\n",
       " ('AB', 'ABCCE'): 'ADD E',\n",
       " ('AB', 'ABCCEF'): 'ADD F',\n",
       " ('ABC', 'A'): 'DEL C',\n",
       " ('ABC', 'AB'): 'DEL C',\n",
       " ('ABC', 'ABC'): 'EQUAL',\n",
       " ('ABC', 'ABCC'): 'ADD C',\n",
       " ('ABC', 'ABCCE'): 'ADD E',\n",
       " ('ABC', 'ABCCEF'): 'ADD F',\n",
       " ('ABCD', 'A'): 'DEL D',\n",
       " ('ABCD', 'AB'): 'DEL D',\n",
       " ('ABCD', 'ABC'): 'DEL D',\n",
       " ('ABCD', 'ABCC'): 'SUB D => C',\n",
       " ('ABCD', 'ABCCE'): 'ADD E',\n",
       " ('ABCD', 'ABCCEF'): 'ADD F',\n",
       " ('ABCDE', 'A'): 'DEL E',\n",
       " ('ABCDE', 'AB'): 'DEL E',\n",
       " ('ABCDE', 'ABC'): 'DEL E',\n",
       " ('ABCDE', 'ABCC'): 'DEL E',\n",
       " ('ABCDE', 'ABCCE'): 'EQUAL',\n",
       " ('ABCDE', 'ABCCEF'): 'ADD F',\n",
       " ('ABCDEC', 'A'): 'DEL C',\n",
       " ('ABCDEC', 'AB'): 'DEL C',\n",
       " ('ABCDEC', 'ABC'): 'DEL C',\n",
       " ('ABCDEC', 'ABCC'): 'EQUAL',\n",
       " ('ABCDEC', 'ABCCE'): 'DEL C',\n",
       " ('ABCDEC', 'ABCCEF'): 'SUB C => F',\n",
       " ('ABCDECG', 'A'): 'DEL G',\n",
       " ('ABCDECG', 'AB'): 'DEL G',\n",
       " ('ABCDECG', 'ABC'): 'DEL G',\n",
       " ('ABCDECG', 'ABCC'): 'DEL G',\n",
       " ('ABCDECG', 'ABCCE'): 'DEL G',\n",
       " ('ABCDECG', 'ABCCEF'): 'DEL G'}"
      ]
     },
     "execution_count": 221,
     "metadata": {},
     "output_type": "execute_result"
    }
   ],
   "source": [
    "solution"
   ]
  },
  {
   "cell_type": "code",
   "execution_count": 222,
   "metadata": {},
   "outputs": [],
   "source": [
    "ope=solution['ABCDECG','ABCCEF']"
   ]
  },
  {
   "cell_type": "code",
   "execution_count": 170,
   "metadata": {},
   "outputs": [
    {
     "name": "stdout",
     "output_type": "stream",
     "text": [
      "DEL G\n",
      "['DEL', 'G']\n",
      "DEL\n"
     ]
    }
   ],
   "source": [
    "print(ope)\n",
    "print(ope.split())\n",
    "print(ope.split()[0])"
   ]
  },
  {
   "cell_type": "code",
   "execution_count": 267,
   "metadata": {},
   "outputs": [],
   "source": [
    "def parse_solution(string_a,string_b):\n",
    "    #left_split, right_split = solution[n]\n",
    "    print(string_a,\"=>\",string_b)\n",
    "    #if solution[string_a,string_b]=='':\n",
    "        #return ope\n",
    "    #    print('EQUAL operation!')\n",
    "    ope.append(solution[string_a,string_b])\n",
    "    \n",
    "    if string_a==string_b:\n",
    "        print('match')\n",
    "        return ope\n",
    "    elif ope[-1].split()[0]=='DEL':\n",
    "        print('del')\n",
    "        string_a=string_a[:-1]\n",
    "        #print(string_a,\"=>\",string_b)\n",
    "    elif ope[-1].split()[0]=='ADD':\n",
    "        string_b=string_b[:-1]\n",
    "        print('add')\n",
    "        #print(string_a)\n",
    "    elif ope[-1].split()[0]=='SUB'or 'EQUAL' :\n",
    "        #print('sub or equal')\n",
    "        string_a=string_a[:-1]\n",
    "        string_b=string_b[:-1]\n",
    "        #print(string_a)\n",
    "    print(ope)\n",
    "    parse_solution(string_a,string_b)\n",
    "\n",
    "    #if right_split == 0: return [left_split]\n",
    "    \n",
    "    #return parse_solution(left_split) + parse_solution(right_split)"
   ]
  },
  {
   "cell_type": "code",
   "execution_count": 268,
   "metadata": {},
   "outputs": [
    {
     "name": "stdout",
     "output_type": "stream",
     "text": [
      "ABCDECG => ABCCEF\n",
      "del\n",
      "['DEL G']\n",
      "ABCDEC => ABCCEF\n",
      "['DEL G', 'SUB C => F']\n",
      "ABCDE => ABCCE\n",
      "['DEL G', 'SUB C => F', 'EQUAL']\n",
      "ABCD => ABCC\n",
      "['DEL G', 'SUB C => F', 'EQUAL', 'SUB D => C']\n",
      "ABC => ABC\n",
      "match\n"
     ]
    }
   ],
   "source": [
    "ope=[]\n",
    "parse_solution('ABCDECG','ABCCEF')"
   ]
  },
  {
   "cell_type": "markdown",
   "metadata": {},
   "source": [
    "# 思考题-homework？    \n",
    "#### 如何在不带空格的时候完成自动修整？--> 如何完成拼音的自动分割？   \n",
    "###### 提示：使用第一节课提到的语言模型!"
   ]
  },
  {
   "cell_type": "markdown",
   "metadata": {},
   "source": [
    "woyaoshangqinghua <br>\n",
    "w yaoshangqinghua<br>\n",
    "wo yaoshangqinghua<br>\n",
    "woyao shangqinghua<br>\n",
    "\n",
    "-> DP"
   ]
  },
  {
   "cell_type": "code",
   "execution_count": 4,
   "metadata": {},
   "outputs": [],
   "source": [
    "chinese_dataset='article_9k.txt'"
   ]
  },
  {
   "cell_type": "code",
   "execution_count": 10,
   "metadata": {},
   "outputs": [],
   "source": [
    "import re"
   ]
  },
  {
   "cell_type": "code",
   "execution_count": 5,
   "metadata": {},
   "outputs": [],
   "source": [
    "CHINESE_CHARACTERS = open(chinese_dataset).read()"
   ]
  },
  {
   "cell_type": "code",
   "execution_count": 6,
   "metadata": {},
   "outputs": [
    {
     "data": {
      "text/plain": [
       "'此外自本周6月12日起除小米手机6等15款机型外其余机型已暂停更新发布含开发版体验版内测稳定版暂不受影响以确保工程师可以集中全部精力进行系统优化工作有人猜测这也是将精力主要用到MIUI9的研发之中MIUI8去年5月发布距今已有一年有余也是时候更新换代了当然关于MIUI9的确切信息我们还是等待官方消息\\n骁龙835作为唯一通过Windows10桌面平台认证的ARM处理器高通强调不会因为只考虑性能而去屏'"
      ]
     },
     "execution_count": 6,
     "metadata": {},
     "output_type": "execute_result"
    }
   ],
   "source": [
    "CHINESE_CHARACTERS[:200]"
   ]
  },
  {
   "cell_type": "code",
   "execution_count": 11,
   "metadata": {},
   "outputs": [],
   "source": [
    "CHINESE_CHARACTERS=re.sub('[\\a-z]+','',CHINESE_CHARACTERS) #去除英文字符"
   ]
  },
  {
   "cell_type": "code",
   "execution_count": 13,
   "metadata": {},
   "outputs": [
    {
     "data": {
      "text/plain": [
       "'此外自本周月日起除小米手机等款机型外其余机型已暂停更新发布含开发版体验版内测稳定版暂不受影响以确保工程师可以集中全部精力进行系统优化工作有人猜测这也是将精力主要用到的研发之中去年月发布距今已有一年有余也是时候更新换代了当然关于的确切信息我们还是等待官方消息骁龙作为唯一通过桌面平台认证的处理器高通强调不会因为只考虑性能而去屏蔽掉小核心相反他们正联手微软找到一种适合桌面平台的兼顾性能和功耗的完美方案报'"
      ]
     },
     "execution_count": 13,
     "metadata": {},
     "output_type": "execute_result"
    }
   ],
   "source": [
    "CHINESE_CHARACTERS[:200]"
   ]
  },
  {
   "cell_type": "code",
   "execution_count": 14,
   "metadata": {},
   "outputs": [],
   "source": [
    "import pinyin"
   ]
  },
  {
   "cell_type": "code",
   "execution_count": 15,
   "metadata": {},
   "outputs": [],
   "source": [
    "def chinese_to_pinyin(character):\n",
    "    return pinyin.get(character,format='strip',delimiter= ' ')"
   ]
  },
  {
   "cell_type": "code",
   "execution_count": 16,
   "metadata": {},
   "outputs": [],
   "source": [
    "temp =r\"hello,world!!%[545]你好23acDEC,.,.4世界。。。\\\\n\\u3000\\u3000\\n/n//\\\\!@#$%^&*()_+~`[]{}\\\":';<>?,./！@#￥%……&*（）——+{}|、】你好234世界“”【；‘’：？》《，。、\""
   ]
  },
  {
   "cell_type": "code",
   "execution_count": 17,
   "metadata": {},
   "outputs": [
    {
     "name": "stdout",
     "output_type": "stream",
     "text": [
      "hello,world!!%[545]你好23acDEC,.,.4世界。。。\\\\n\\u3000\\u3000\\n/n//\\\\!@#$%^&*()_+~`[]{}\\\":';<>?,./！@#￥%……&*（）——+{}|、】你好234世界“”【；‘’：？》《，。、\n",
      "你好世界。。。~{}！￥……（）——{}|、】你好世界“”【；‘’：？》《，。、\n",
      "你好世界你好世界\n"
     ]
    }
   ],
   "source": [
    "string=\"\"\n",
    "print(temp)\n",
    "string=re.sub('[\\a-z]+','',temp) #去除英文字符\n",
    "print(string)\n",
    "string=''.join(re.findall('\\w+',string))  #所有的Words\n",
    "#string=''.join(re.findall('\\w+',string.replace('\\\\n','\\n')))  #所有的Words\n",
    "print(string)"
   ]
  },
  {
   "cell_type": "code",
   "execution_count": 18,
   "metadata": {},
   "outputs": [
    {
     "data": {
      "text/plain": [
       "'ni hao shi jie ni hao shi jie'"
      ]
     },
     "execution_count": 18,
     "metadata": {},
     "output_type": "execute_result"
    }
   ],
   "source": [
    "chinese_to_pinyin(string)"
   ]
  },
  {
   "cell_type": "code",
   "execution_count": 19,
   "metadata": {},
   "outputs": [
    {
     "data": {
      "text/plain": [
       "'yong dao M I U I 9'"
      ]
     },
     "execution_count": 19,
     "metadata": {},
     "output_type": "execute_result"
    }
   ],
   "source": [
    "chinese_to_pinyin('用到MIUI9')"
   ]
  },
  {
   "cell_type": "code",
   "execution_count": 20,
   "metadata": {},
   "outputs": [
    {
     "data": {
      "text/plain": [
       "'ni shi yi ge nv ren'"
      ]
     },
     "execution_count": 20,
     "metadata": {},
     "output_type": "execute_result"
    }
   ],
   "source": [
    "chinese_to_pinyin('你是一个女人')"
   ]
  },
  {
   "cell_type": "code",
   "execution_count": 21,
   "metadata": {},
   "outputs": [],
   "source": [
    "CHINESE_CHARACTERS_COPYS=chinese_to_pinyin(CHINESE_CHARACTERS)"
   ]
  },
  {
   "cell_type": "code",
   "execution_count": 22,
   "metadata": {},
   "outputs": [
    {
     "data": {
      "text/plain": [
       "124288292"
      ]
     },
     "execution_count": 22,
     "metadata": {},
     "output_type": "execute_result"
    }
   ],
   "source": [
    "len(CHINESE_CHARACTERS_COPYS)"
   ]
  },
  {
   "cell_type": "code",
   "execution_count": 23,
   "metadata": {},
   "outputs": [],
   "source": [
    "import re"
   ]
  },
  {
   "cell_type": "code",
   "execution_count": 24,
   "metadata": {},
   "outputs": [],
   "source": [
    "def tokens(text):\n",
    "    \"list all the pinyin characters\"\n",
    "    return re.findall('[a-z]+',text.lower())"
   ]
  },
  {
   "cell_type": "code",
   "execution_count": 25,
   "metadata": {},
   "outputs": [
    {
     "data": {
      "text/plain": [
       "'ci wai zi ben zhou yue ri qi chu xiao mi shou ji deng kuan ji xing wai qi yu ji xing yi zan ting geng xin fa bu han kai fa ban ti yan ban nei ce wen ding ban zan bu shou ying xiang yi que bao gong cheng shi ke yi ji zhong quan bu jing li jin xing xi tong you hua gong zuo you ren cai ce zhe ye shi ji'"
      ]
     },
     "execution_count": 25,
     "metadata": {},
     "output_type": "execute_result"
    }
   ],
   "source": [
    "CHINESE_CHARACTERS_COPYS[:300]"
   ]
  },
  {
   "cell_type": "code",
   "execution_count": 26,
   "metadata": {},
   "outputs": [
    {
     "data": {
      "text/plain": [
       "['ye',\n",
       " 'xu',\n",
       " 'huan',\n",
       " 'neng',\n",
       " 'jian',\n",
       " 'dao',\n",
       " 'san',\n",
       " 'xing',\n",
       " 'lian',\n",
       " 'fa',\n",
       " 'ke',\n",
       " 'hua',\n",
       " 'wei',\n",
       " 'qi',\n",
       " 'lin',\n",
       " 'xiao',\n",
       " 'mi',\n",
       " 'peng',\n",
       " 'pai',\n",
       " 'deng',\n",
       " 'jin',\n",
       " 'ru',\n",
       " 'zhuo',\n",
       " 'mian',\n",
       " 'ping',\n",
       " 'tai',\n",
       " 'ci',\n",
       " 'qian',\n",
       " 'de',\n",
       " 'yi',\n",
       " 'jia',\n",
       " 'da',\n",
       " 'zai',\n",
       " 'de',\n",
       " 'shi',\n",
       " 'dian',\n",
       " 'chi',\n",
       " 'kuai',\n",
       " 'chong',\n",
       " 'gui',\n",
       " 'ge',\n",
       " 'wei',\n",
       " 'zhi',\n",
       " 'yu',\n",
       " 'dian',\n",
       " 'chi',\n",
       " 'suo',\n",
       " 'shui',\n",
       " 'ke',\n",
       " 'neng',\n",
       " 'yu',\n",
       " 'liu',\n",
       " 'zuo',\n",
       " 'hu',\n",
       " 'suo',\n",
       " 'shuo',\n",
       " 'yi',\n",
       " 'jia',\n",
       " 'shou',\n",
       " 'ji',\n",
       " 'yao',\n",
       " 'zuo',\n",
       " 'shi',\n",
       " 'mian',\n",
       " 'zui',\n",
       " 'qing',\n",
       " 'bo',\n",
       " 'da',\n",
       " 'ping',\n",
       " 'qi',\n",
       " 'jian',\n",
       " 'de',\n",
       " 'she',\n",
       " 'ding',\n",
       " 'you',\n",
       " 'guan',\n",
       " 'an',\n",
       " 'zhao',\n",
       " 'mu',\n",
       " 'qian',\n",
       " 'zhang',\n",
       " 'wo',\n",
       " 'de',\n",
       " 'zi',\n",
       " 'liao',\n",
       " 'yi',\n",
       " 'jia',\n",
       " 'shou',\n",
       " 'ji',\n",
       " 'yong',\n",
       " 'you',\n",
       " 'cun',\n",
       " 'san',\n",
       " 'xing',\n",
       " 'xian',\n",
       " 'shi',\n",
       " 'ping',\n",
       " 'shuang',\n",
       " 'wan',\n",
       " 'she']"
      ]
     },
     "execution_count": 26,
     "metadata": {},
     "output_type": "execute_result"
    }
   ],
   "source": [
    "tokens(CHINESE_CHARACTERS_COPYS)[300:400]"
   ]
  },
  {
   "cell_type": "code",
   "execution_count": 27,
   "metadata": {},
   "outputs": [
    {
     "data": {
      "text/plain": [
       "30365392"
      ]
     },
     "execution_count": 27,
     "metadata": {},
     "output_type": "execute_result"
    }
   ],
   "source": [
    "len(tokens(CHINESE_CHARACTERS_COPYS))"
   ]
  },
  {
   "cell_type": "code",
   "execution_count": 28,
   "metadata": {},
   "outputs": [],
   "source": [
    "TOKENS=tokens(CHINESE_CHARACTERS_COPYS)"
   ]
  },
  {
   "cell_type": "code",
   "execution_count": 29,
   "metadata": {},
   "outputs": [
    {
     "data": {
      "text/plain": [
       "['ci', 'wai', 'zi', 'ben', 'zhou', 'yue', 'ri', 'qi', 'chu', 'xiao']"
      ]
     },
     "execution_count": 29,
     "metadata": {},
     "output_type": "execute_result"
    }
   ],
   "source": [
    "TOKENS[0:10]"
   ]
  },
  {
   "cell_type": "code",
   "execution_count": 30,
   "metadata": {},
   "outputs": [
    {
     "name": "stdout",
     "output_type": "stream",
     "text": [
      "30365392\n"
     ]
    }
   ],
   "source": [
    "print(len(TOKENS))"
   ]
  },
  {
   "cell_type": "code",
   "execution_count": 31,
   "metadata": {},
   "outputs": [],
   "source": [
    "from collections import Counter,defaultdict"
   ]
  },
  {
   "cell_type": "code",
   "execution_count": 32,
   "metadata": {},
   "outputs": [],
   "source": [
    "PINYIN_COUNT=Counter(tokens(CHINESE_CHARACTERS_COPYS))"
   ]
  },
  {
   "cell_type": "code",
   "execution_count": 33,
   "metadata": {},
   "outputs": [
    {
     "name": "stdout",
     "output_type": "stream",
     "text": [
      "397\n"
     ]
    }
   ],
   "source": [
    "print(len(PINYIN_COUNT))"
   ]
  },
  {
   "cell_type": "code",
   "execution_count": 34,
   "metadata": {},
   "outputs": [
    {
     "data": {
      "text/plain": [
       "64661"
      ]
     },
     "execution_count": 34,
     "metadata": {},
     "output_type": "execute_result"
    }
   ],
   "source": [
    "PINYIN_COUNT.get('wo')"
   ]
  },
  {
   "cell_type": "code",
   "execution_count": 35,
   "metadata": {},
   "outputs": [
    {
     "data": {
      "text/plain": [
       "[('shi', 860634),\n",
       " ('de', 809887),\n",
       " ('yi', 682478),\n",
       " ('ji', 645276),\n",
       " ('guo', 430042),\n",
       " ('zhong', 409418),\n",
       " ('zhi', 398612),\n",
       " ('xin', 359619),\n",
       " ('li', 355441),\n",
       " ('zai', 334106)]"
      ]
     },
     "execution_count": 35,
     "metadata": {},
     "output_type": "execute_result"
    }
   ],
   "source": [
    "PINYIN_COUNT.most_common(10)"
   ]
  },
  {
   "cell_type": "code",
   "execution_count": 37,
   "metadata": {
    "scrolled": true
   },
   "outputs": [
    {
     "name": "stdout",
     "output_type": "stream",
     "text": [
      "shi 860634\n",
      "de 809887\n",
      "yi 682478\n",
      "ji 645276\n",
      "guo 430042\n",
      "zhong 409418\n",
      "zhi 398612\n",
      "xin 359619\n",
      "li 355441\n",
      "zai 334106\n",
      "wei 326301\n",
      "hua 304941\n",
      "yu 302949\n",
      "she 293312\n",
      "he 285689\n",
      "bu 281533\n",
      "ri 278379\n",
      "jin 278141\n",
      "you 277726\n",
      "xian 269047\n",
      "gong 259593\n",
      "yue 258519\n",
      "ren 257321\n",
      "qi 251164\n",
      "yuan 248823\n",
      "jian 248173\n",
      "da 247785\n",
      "xing 241741\n",
      "jia 239795\n",
      "fa 233137\n",
      "nian 231398\n",
      "di 221266\n",
      "jing 220462\n",
      "xi 217848\n",
      "sheng 211580\n",
      "cheng 210265\n",
      "jie 208675\n",
      "er 208539\n",
      "zhe 205224\n",
      "ye 197406\n",
      "xiang 196711\n",
      "fu 194850\n",
      "wu 194660\n",
      "chang 193611\n",
      "zi 192620\n",
      "ge 191779\n",
      "zhu 191577\n",
      "hui 187634\n",
      "dui 182885\n",
      "shang 178941\n",
      "ti 176853\n",
      "shou 175635\n",
      "si 175066\n",
      "ke 173705\n",
      "ju 173114\n",
      "dai 171074\n",
      "dao 167050\n",
      "tong 166443\n",
      "le 166313\n",
      "guan 164991\n",
      "fang 161433\n",
      "zheng 160688\n",
      "sai 158317\n",
      "chu 156005\n",
      "zhan 155206\n",
      "mei 145101\n",
      "zuo 143828\n",
      "dong 142750\n",
      "ying 140068\n",
      "jiang 139873\n",
      "qu 134248\n",
      "bei 133864\n",
      "bao 132256\n",
      "bi 131887\n",
      "wai 131353\n",
      "qiu 129226\n",
      "xiao 126736\n",
      "du 125547\n",
      "zhao 125457\n",
      "dian 125203\n",
      "yan 125085\n",
      "quan 122983\n",
      "wen 121636\n",
      "jiao 114201\n",
      "yao 113571\n",
      "shu 110081\n",
      "qian 107612\n",
      "wang 106302\n",
      "huo 105711\n",
      "fen 105101\n",
      "lai 104997\n",
      "lu 103611\n",
      "gao 103450\n",
      "lian 102755\n",
      "liang 101795\n",
      "ming 101077\n",
      "mu 98791\n",
      "wan 97245\n",
      "dang 97034\n",
      "ci 95927\n",
      "qing 95699\n",
      "duo 94887\n",
      "kai 94310\n",
      "ta 94143\n",
      "jiu 92105\n",
      "yin 91363\n",
      "xue 90928\n",
      "an 90356\n",
      "zu 89641\n",
      "hu 88138\n",
      "biao 87671\n",
      "dan 85678\n",
      "men 85361\n",
      "huan 85167\n",
      "yong 84428\n",
      "ban 83215\n",
      "shen 82053\n",
      "hou 81943\n",
      "xu 81654\n",
      "zhou 80326\n",
      "yang 79502\n",
      "ping 79401\n",
      "deng 77672\n",
      "ya 77529\n",
      "ru 77086\n",
      "hai 77075\n",
      "tai 76995\n",
      "xia 76389\n",
      "min 75446\n",
      "pian 74571\n",
      "nan 73866\n",
      "neng 73153\n",
      "pin 72590\n",
      "gu 71739\n",
      "luo 70710\n",
      "xie 70147\n",
      "fei 69077\n",
      "ba 68917\n",
      "chan 67157\n",
      "tian 64685\n",
      "wo 64661\n",
      "te 64610\n",
      "hao 64391\n",
      "xuan 63887\n",
      "mian 63247\n",
      "tou 62353\n",
      "bing 62256\n",
      "ma 61893\n",
      "cai 61649\n",
      "zong 61540\n",
      "ding 60586\n",
      "ling 58903\n",
      "tu 58771\n",
      "lv 58491\n",
      "shuo 58205\n",
      "su 56942\n",
      "fan 56555\n",
      "nei 55595\n",
      "jun 55519\n",
      "ben 55466\n",
      "bian 55446\n",
      "gai 54883\n",
      "liu 54770\n",
      "zhang 54556\n",
      "bo 54349\n",
      "shan 54211\n",
      "zui 52532\n",
      "zhen 52175\n",
      "gui 51986\n",
      "che 51184\n",
      "shui 50990\n",
      "na 50163\n",
      "feng 50140\n",
      "zhuan 50099\n",
      "lan 49977\n",
      "qiang 49757\n",
      "jue 49487\n",
      "mo 49000\n",
      "la 48821\n",
      "cha 48661\n",
      "chi 48563\n",
      "suo 47392\n",
      "yun 47373\n",
      "guang 47297\n",
      "lun 47136\n",
      "zao 45572\n",
      "chuan 45328\n",
      "kong 44384\n",
      "gou 43841\n",
      "zhuang 43810\n",
      "duan 43754\n",
      "cong 43473\n",
      "san 42992\n",
      "gang 42651\n",
      "pai 42251\n",
      "tan 41650\n",
      "ni 41237\n",
      "mi 40857\n",
      "chuang 40373\n",
      "gan 40076\n",
      "han 39849\n",
      "cun 39815\n",
      "can 39732\n",
      "bai 39411\n",
      "tui 39023\n",
      "xun 38827\n",
      "rong 38777\n",
      "ze 37238\n",
      "pu 35531\n",
      "geng 35528\n",
      "ou 35066\n",
      "shao 34721\n",
      "lei 34697\n",
      "lin 34671\n",
      "zeng 33555\n",
      "diao 33303\n",
      "e 32464\n",
      "chao 31798\n",
      "ting 31732\n",
      "sui 31407\n",
      "ran 31255\n",
      "ce 30897\n",
      "kan 30486\n",
      "meng 30042\n",
      "lao 29267\n",
      "man 29201\n",
      "ai 28530\n",
      "mao 28512\n",
      "ao 26680\n",
      "que 26243\n",
      "xiu 25777\n",
      "nong 25686\n",
      "a 25099\n",
      "lie 24859\n",
      "long 24681\n",
      "kou 24597\n",
      "tuan 24587\n",
      "pei 24575\n",
      "hong 24568\n",
      "nv 24378\n",
      "tiao 24246\n",
      "hang 24149\n",
      "kao 23915\n",
      "liao 23609\n",
      "tao 23543\n",
      "mai 23530\n",
      "tuo 23502\n",
      "huang 23291\n",
      "rang 22941\n",
      "sha 22362\n",
      "chen 22240\n",
      "pi 22168\n",
      "kuai 22115\n",
      "hen 21310\n",
      "zou 20935\n",
      "po 20933\n",
      "qia 20841\n",
      "kuang 19987\n",
      "lang 19944\n",
      "ceng 19486\n",
      "song 19461\n",
      "qie 19339\n",
      "dun 19333\n",
      "zhun 19159\n",
      "se 19140\n",
      "pan 18978\n",
      "tie 18972\n",
      "bie 18958\n",
      "gen 18393\n",
      "shuang 18391\n",
      "qin 18027\n",
      "gei 17653\n",
      "chong 16869\n",
      "bang 16868\n",
      "kuo 15644\n",
      "zhai 15281\n",
      "ku 14978\n",
      "wa 14877\n",
      "qun 14543\n",
      "re 14518\n",
      "chun 14420\n",
      "kang 14053\n",
      "kuan 13631\n",
      "nuo 13496\n",
      "niu 13444\n",
      "kun 13378\n",
      "peng 13337\n",
      "tang 13190\n",
      "qiao 12691\n",
      "zha 12523\n",
      "ning 12436\n",
      "piao 12301\n",
      "cao 12233\n",
      "xiong 11973\n",
      "sa 11606\n",
      "mou 11153\n",
      "ha 11032\n",
      "chou 10792\n",
      "bin 10709\n",
      "cuo 10467\n",
      "lve 9851\n",
      "cu 9712\n",
      "suan 9509\n",
      "die 9410\n",
      "pao 9251\n",
      "cang 9186\n",
      "sen 9157\n",
      "hun 9059\n",
      "hei 8962\n",
      "rui 8843\n",
      "dou 8805\n",
      "miao 8525\n",
      "pang 8421\n",
      "sun 8415\n",
      "heng 8216\n",
      "reng 8160\n",
      "lou 7060\n",
      "zan 6671\n",
      "zhui 6638\n",
      "nu 6476\n",
      "huai 6450\n",
      "shun 6373\n",
      "nai 6184\n",
      "zhua 6147\n",
      "kua 5927\n",
      "gua 5745\n",
      "fou 5574\n",
      "juan 5569\n",
      "pa 5395\n",
      "ruo 5375\n",
      "nao 5209\n",
      "en 5109\n",
      "ken 4838\n",
      "mang 4776\n",
      "rao 4722\n",
      "rou 3992\n",
      "shuai 3948\n",
      "sang 3927\n",
      "sao 3887\n",
      "cui 3759\n",
      "teng 3659\n",
      "za 3646\n",
      "ruan 3579\n",
      "zhuo 3423\n",
      "zang 3421\n",
      "ka 3334\n",
      "zun 3286\n",
      "luan 3281\n",
      "ang 3089\n",
      "leng 3030\n",
      "niao 2981\n",
      "fo 2970\n",
      "run 2850\n",
      "zen 2746\n",
      "chai 2512\n",
      "nuan 2504\n",
      "pen 2318\n",
      "qiong 2279\n",
      "kui 2256\n",
      "niang 1904\n",
      "shua 1871\n",
      "tun 1824\n",
      "sou 1795\n",
      "chui 1747\n",
      "zuan 1616\n",
      "nie 1358\n",
      "shai 1172\n",
      "gun 1171\n",
      "mie 1117\n",
      "guai 1021\n",
      "weng 966\n",
      "nen 933\n",
      "beng 846\n",
      "diu 843\n",
      "keng 785\n",
      "nin 737\n",
      "ga 649\n",
      "nve 612\n",
      "nang 580\n",
      "ne 567\n",
      "lia 539\n",
      "ca 522\n",
      "cen 259\n",
      "chuo 242\n",
      "jiong 213\n",
      "seng 211\n",
      "cuan 207\n",
      "pou 204\n",
      "cou 197\n",
      "shuan 171\n",
      "chuai 161\n",
      "pie 151\n",
      "zei 74\n",
      "miu 40\n",
      "dia 34\n",
      "o 25\n",
      "yo 14\n"
     ]
    }
   ],
   "source": [
    "with open('article_9k_pinyin_freq.txt','w') as f:\n",
    "    k=0\n",
    "    for i,v in PINYIN_COUNT.most_common():\n",
    "        f.write( i + ' ' + str(v) +'\\n')\n",
    "        print(i,str(v))\n",
    "        #f.write(i+''+str(v)+'\\n')\n",
    "        #if k==100:break\n",
    "        k=k+1\n",
    "        #if k==10:break\n",
    "        #save TOKEN to disk"
   ]
  },
  {
   "cell_type": "code",
   "execution_count": 39,
   "metadata": {},
   "outputs": [
    {
     "name": "stdout",
     "output_type": "stream",
     "text": [
      "30365392\n"
     ]
    }
   ],
   "source": [
    "total_count=0\n",
    "for i,v in PINYIN_COUNT.most_common():\n",
    "    total_count+=v\n",
    "    #print(i,v)\n",
    "    #print(i+' '+str(value))\n",
    "print(total_count)\n",
    "#str(v)    \n",
    "#print(total_count)    "
   ]
  },
  {
   "cell_type": "code",
   "execution_count": 40,
   "metadata": {},
   "outputs": [],
   "source": [
    "def correct(word):\n",
    "    'Find the most possible pinyin based on edit distance'\n",
    "    # Prefer edit distance 0, then 1, then 2; otherwist default to word itself\n",
    "    candidates = (known(edits0(word)) or\n",
    "                  known(edits1(word)) or\n",
    "                  known(edits2(word)) or\n",
    "                  [word])\n",
    "    return max(candidates,key=PINYIN_COUNT.get)"
   ]
  },
  {
   "cell_type": "code",
   "execution_count": 41,
   "metadata": {},
   "outputs": [],
   "source": [
    "def known(words):\n",
    "    'Return the pinyin in our data'\n",
    "    return {w for w in words if w in PINYIN_COUNT}\n",
    "\n",
    "def edits0(word):\n",
    "    'Return all strings that are zero edits away from word (i.e., just word itself).'\n",
    "    return {word}\n",
    "\n",
    "def edits2(word):\n",
    "    'Return all strings that are two edits away from this pinyin.'\n",
    "    return {e2 for e1 in edits1(word) for e2 in edits1(e1)}"
   ]
  },
  {
   "cell_type": "code",
   "execution_count": 42,
   "metadata": {},
   "outputs": [],
   "source": [
    "alphabet = 'abcdefghijklmnopqrstuvwxyz'\n",
    "\n",
    "def splits(word):\n",
    "    'Return a list of all possible (first, rest) pairs that comprise pinyin.'\n",
    "    return [(word[:i], word[i:])\n",
    "           for i in range(len(word)+1)]\n",
    "\n",
    "def edits1(word):\n",
    "    'Return all strings that are one edit away from this pinyin.'\n",
    "    pairs = splits(word)\n",
    "    deletes = [a+b[1:] for (a,b) in pairs if b]\n",
    "    transposes = [a+b[1]+b[0]+b[2:] for (a,b) in pairs if len(b) > 1]\n",
    "    replaces = [a+c+b[1:] for (a,b) in pairs for c in alphabet if b]\n",
    "    inserts = [a+c+b for (a,b) in pairs for c in alphabet]\n",
    "    return set(deletes + transposes + replaces + inserts)"
   ]
  },
  {
   "cell_type": "code",
   "execution_count": 43,
   "metadata": {},
   "outputs": [
    {
     "data": {
      "text/plain": [
       "[('', 'pinyin'),\n",
       " ('p', 'inyin'),\n",
       " ('pi', 'nyin'),\n",
       " ('pin', 'yin'),\n",
       " ('piny', 'in'),\n",
       " ('pinyi', 'n'),\n",
       " ('pinyin', '')]"
      ]
     },
     "execution_count": 43,
     "metadata": {},
     "output_type": "execute_result"
    }
   ],
   "source": [
    "splits('pinyin')"
   ]
  },
  {
   "cell_type": "code",
   "execution_count": 44,
   "metadata": {},
   "outputs": [
    {
     "name": "stdout",
     "output_type": "stream",
     "text": [
      "{'pinyin'}\n"
     ]
    }
   ],
   "source": [
    "print(edits0\n",
    "      ('pinyin'))"
   ]
  },
  {
   "cell_type": "code",
   "execution_count": 45,
   "metadata": {},
   "outputs": [
    {
     "data": {
      "text/plain": [
       "'ping'"
      ]
     },
     "execution_count": 45,
     "metadata": {},
     "output_type": "execute_result"
    }
   ],
   "source": [
    "correct('pinnd')"
   ]
  },
  {
   "cell_type": "code",
   "execution_count": 46,
   "metadata": {},
   "outputs": [],
   "source": [
    "text_pinyin=\"zhe shi yi ge ce shi\""
   ]
  },
  {
   "cell_type": "code",
   "execution_count": 47,
   "metadata": {},
   "outputs": [
    {
     "data": {
      "text/plain": [
       "['zhe', 'shi', 'yi', 'ge', 'ce', 'shi']"
      ]
     },
     "execution_count": 47,
     "metadata": {},
     "output_type": "execute_result"
    }
   ],
   "source": [
    "text_pinyin.split()"
   ]
  },
  {
   "cell_type": "code",
   "execution_count": 48,
   "metadata": {},
   "outputs": [],
   "source": [
    "def correct_sequence_pinyin(text_pinyin):\n",
    "    return ' '.join(map(correct, text_pinyin.split()))"
   ]
  },
  {
   "cell_type": "code",
   "execution_count": 49,
   "metadata": {},
   "outputs": [
    {
     "data": {
      "text/plain": [
       "'zhe shi yi ge ce shi'"
      ]
     },
     "execution_count": 49,
     "metadata": {},
     "output_type": "execute_result"
    }
   ],
   "source": [
    "correct_sequence_pinyin('zhe sih yi ge ce sho')"
   ]
  },
  {
   "cell_type": "markdown",
   "metadata": {},
   "source": [
    "##  开始处理连续不分开的拼音"
   ]
  },
  {
   "cell_type": "code",
   "execution_count": 50,
   "metadata": {},
   "outputs": [],
   "source": [
    "lianxu_pinyin='woyaoshangqinghua'"
   ]
  },
  {
   "cell_type": "code",
   "execution_count": 51,
   "metadata": {},
   "outputs": [],
   "source": [
    "split_pinyin=splits(lianxu_pinyin)"
   ]
  },
  {
   "cell_type": "code",
   "execution_count": 52,
   "metadata": {},
   "outputs": [
    {
     "name": "stdout",
     "output_type": "stream",
     "text": [
      " woyaoshangqinghua\n",
      "w oyaoshangqinghua\n",
      "wo yaoshangqinghua\n",
      "woy aoshangqinghua\n",
      "woya oshangqinghua\n",
      "woyao shangqinghua\n",
      "woyaos hangqinghua\n",
      "woyaosh angqinghua\n",
      "woyaosha ngqinghua\n",
      "woyaoshan gqinghua\n",
      "woyaoshang qinghua\n",
      "woyaoshangq inghua\n",
      "woyaoshangqi nghua\n",
      "woyaoshangqin ghua\n",
      "woyaoshangqing hua\n",
      "woyaoshangqingh ua\n",
      "woyaoshangqinghu a\n",
      "woyaoshangqinghua \n"
     ]
    }
   ],
   "source": [
    "for item1,item2 in split_pinyin:\n",
    "    print( item1,item2)"
   ]
  },
  {
   "cell_type": "code",
   "execution_count": 53,
   "metadata": {},
   "outputs": [
    {
     "name": "stdout",
     "output_type": "stream",
     "text": [
      "[('', 'woyaoshangqinghua'), ('w', 'oyaoshangqinghua'), ('wo', 'yaoshangqinghua'), ('woy', 'aoshangqinghua'), ('woya', 'oshangqinghua'), ('woyao', 'shangqinghua'), ('woyaos', 'hangqinghua'), ('woyaosh', 'angqinghua'), ('woyaosha', 'ngqinghua'), ('woyaoshan', 'gqinghua'), ('woyaoshang', 'qinghua'), ('woyaoshangq', 'inghua'), ('woyaoshangqi', 'nghua'), ('woyaoshangqin', 'ghua'), ('woyaoshangqing', 'hua'), ('woyaoshangqingh', 'ua'), ('woyaoshangqinghu', 'a'), ('woyaoshangqinghua', '')]\n"
     ]
    }
   ],
   "source": [
    "print(split_pinyin)"
   ]
  },
  {
   "cell_type": "code",
   "execution_count": 54,
   "metadata": {},
   "outputs": [],
   "source": [
    "word='wowo'\n",
    "if word in PINYIN_COUNT.keys():\n",
    "    print(\"found\")"
   ]
  },
  {
   "cell_type": "code",
   "execution_count": 55,
   "metadata": {},
   "outputs": [],
   "source": [
    "def prob_1(word): \n",
    "    if word in PINYIN_COUNT.keys():\n",
    "        return PINYIN_COUNT[word] / len(TOKENS)\n",
    "    else:\n",
    "        return 0.5 / len(TOKENS) #假定至少出现0.5，否则概率为零，针对最末一个单词不在词典的情况"
   ]
  },
  {
   "cell_type": "code",
   "execution_count": 56,
   "metadata": {},
   "outputs": [],
   "source": [
    "def prob_2(word1, word2):\n",
    "    if word1 + word2 in words_count_2: \n",
    "        return words_count_2[word1+word2] / words_count[word2]\n",
    "    else:\n",
    "        #print(word1,word2,'一次也没有出现')\n",
    "        #print(0.5/len(words_count)) #假定出现0.5次，保证概率不为零\n",
    "        return 0.5/len(TOKENS)  #out of vocabulary lib"
   ]
  },
  {
   "cell_type": "code",
   "execution_count": 58,
   "metadata": {},
   "outputs": [
    {
     "data": {
      "text/plain": [
       "['ci', 'wai', 'zi', 'ben', 'zhou', 'yue', 'ri', 'qi', 'chu', 'xiao']"
      ]
     },
     "execution_count": 58,
     "metadata": {},
     "output_type": "execute_result"
    }
   ],
   "source": [
    "TOKENS[:10]"
   ]
  },
  {
   "cell_type": "code",
   "execution_count": 59,
   "metadata": {},
   "outputs": [
    {
     "data": {
      "text/plain": [
       "0.002129430767763512"
      ]
     },
     "execution_count": 59,
     "metadata": {},
     "output_type": "execute_result"
    }
   ],
   "source": [
    "prob_1('wo')"
   ]
  },
  {
   "cell_type": "code",
   "execution_count": 60,
   "metadata": {},
   "outputs": [],
   "source": [
    "def get_probablity(item1,item2):\n",
    "    #words = list(cut(sentence))\n",
    "    sentence_pro = 1  \n",
    "    prob1 = prob_1(item1)\n",
    "    prob2 = prob_1(item2)\n",
    "    sentence_pro *= prob1\n",
    "    sentence_pro *= prob2\n",
    "    return sentence_pro"
   ]
  },
  {
   "cell_type": "code",
   "execution_count": 219,
   "metadata": {},
   "outputs": [],
   "source": [
    "def parse_pinyin(input_pinyin):\n",
    "    k=20\n",
    "    result_pinyin=[]\n",
    "    right_pinyin=[]\n",
    "    left_pinyin=[]\n",
    "    while(k>0):\n",
    "        k-=1\n",
    "        split_pinyin=splits(input_pinyin)\n",
    "        better=0\n",
    "        for item1,item2 in split_pinyin:          #qingg 多写了一个字母，到底在如何判断不能再分割？\n",
    "            #print(item1,item2)\n",
    "            p1=get_probablity(item1,item2)\n",
    "            if p1 > better:                \n",
    "                better=p1\n",
    "                pinyin1=item1\n",
    "                pinyin2=item2\n",
    "                print(p1,better,pinyin1,pinyin2)\n",
    "                #print('p1 is better')\n",
    "                #增加判断，如果\n",
    "        print(pinyin1,pinyin2)\n",
    "        if len(pinyin1)==0:                   #分割多了吗\n",
    "            print(\"pinyin1长度为0\",pinyin2)\n",
    "            right_pinyin.insert(0,pinyin2)\n",
    "            result_pinyin=left_pinyin+right_pinyin\n",
    "            print(result_pinyin)\n",
    "            return(result_pinyin)\n",
    "        if len(pinyin2)==0:\n",
    "            print(pinyin1,\"pinyin2长度为0\")\n",
    "            left_pinyin.append(pinyin1)\n",
    "            result_pinyin=left_pinyin+right_pinyin\n",
    "            print(result_pinyin)\n",
    "            return(result_pinyin)\n",
    "        if prob_1(pinyin1)<prob_1(pinyin2):    #需要进一步切割的拼音\n",
    "            last='right'                       #记录上一次插入的位置\n",
    "            input_pinyin=pinyin1\n",
    "            right_pinyin.insert(0,pinyin2)\n",
    "            print(left_pinyin,right_pinyin)\n",
    "        else:\n",
    "            last='left'                       #记录上一次插入的位置\n",
    "            input_pinyin=pinyin2\n",
    "            left_pinyin.append(pinyin1)\n",
    "        print(left_pinyin,right_pinyin)\n",
    "        print(input_pinyin)\n",
    "    result_pinyin=left_pinyin+right_pinyin\n",
    "    print(result_pinyin)\n",
    "    return(result_pinyin)\n",
    "    "
   ]
  },
  {
   "cell_type": "code",
   "execution_count": 228,
   "metadata": {},
   "outputs": [
    {
     "name": "stdout",
     "output_type": "stream",
     "text": [
      "2.711329033995028e-16 2.711329033995028e-16  wwoyaoshangqinghuadaxue\n",
      "4.930714528061998e-11 4.930714528061998e-11 wwoyaoshangqinghuada xue\n",
      "wwoyaoshangqinghuada xue\n",
      "[] ['xue']\n",
      "[] ['xue']\n",
      "wwoyaoshangqinghuada\n",
      "2.711329033995028e-16 2.711329033995028e-16  wwoyaoshangqinghuada\n",
      "1.343653329376916e-10 1.343653329376916e-10 wwoyaoshangqinghua da\n",
      "wwoyaoshangqinghua da\n",
      "[] ['da', 'xue']\n",
      "[] ['da', 'xue']\n",
      "wwoyaoshangqinghua\n",
      "2.711329033995028e-16 2.711329033995028e-16  wwoyaoshangqinghua\n",
      "1.6535907739109558e-10 1.6535907739109558e-10 wwoyaoshangqing hua\n",
      "wwoyaoshangqing hua\n",
      "[] ['hua', 'da', 'xue']\n",
      "[] ['hua', 'da', 'xue']\n",
      "wwoyaoshangqing\n",
      "2.711329033995028e-16 2.711329033995028e-16  wwoyaoshangqing\n",
      "5.1894295444858036e-11 5.1894295444858036e-11 wwoyaoshang qing\n",
      "wwoyaoshang qing\n",
      "[] ['qing', 'hua', 'da', 'xue']\n",
      "[] ['qing', 'hua', 'da', 'xue']\n",
      "wwoyaoshang\n",
      "2.711329033995028e-16 2.711329033995028e-16  wwoyaoshang\n",
      "9.703358573442086e-11 9.703358573442086e-11 wwoyao shang\n",
      "wwoyao shang\n",
      "[] ['shang', 'qing', 'hua', 'da', 'xue']\n",
      "[] ['shang', 'qing', 'hua', 'da', 'xue']\n",
      "wwoyao\n",
      "2.711329033995028e-16 2.711329033995028e-16  wwoyao\n",
      "6.158566994396986e-11 6.158566994396986e-11 wwo yao\n",
      "wwo yao\n",
      "[] ['yao', 'shang', 'qing', 'hua', 'da', 'xue']\n",
      "[] ['yao', 'shang', 'qing', 'hua', 'da', 'xue']\n",
      "wwo\n",
      "2.711329033995028e-16 2.711329033995028e-16  wwo\n",
      "3.50634493334305e-11 3.50634493334305e-11 w wo\n",
      "w wo\n",
      "[] ['wo', 'yao', 'shang', 'qing', 'hua', 'da', 'xue']\n",
      "[] ['wo', 'yao', 'shang', 'qing', 'hua', 'da', 'xue']\n",
      "w\n",
      "2.711329033995028e-16 2.711329033995028e-16  w\n",
      " w\n",
      "pinyin1长度为0 w\n",
      "['w', 'wo', 'yao', 'shang', 'qing', 'hua', 'da', 'xue']\n"
     ]
    }
   ],
   "source": [
    "lianxu_pinyin='wwoyaoshangqinghuadaxue'\n",
    "#lianxu_pinyin='jintianzaoshangnichilema'\n",
    "parsed_pinyin=parse_pinyin(lianxu_pinyin)"
   ]
  },
  {
   "cell_type": "code",
   "execution_count": 229,
   "metadata": {},
   "outputs": [
    {
     "name": "stdout",
     "output_type": "stream",
     "text": [
      "['w', 'wo', 'yao', 'shang', 'qing', 'hua', 'da', 'xue']\n",
      "w wo yao shang qing hua da xue\n"
     ]
    }
   ],
   "source": [
    "print(parsed_pinyin)\n",
    "' '.join(parsed_pinyin)\n",
    "test_pinyin=' '.join(parsed_pinyin)\n",
    "print(test_pinyin)"
   ]
  },
  {
   "cell_type": "code",
   "execution_count": 230,
   "metadata": {},
   "outputs": [
    {
     "data": {
      "text/plain": [
       "'wu wo yao shang qing hua da xue'"
      ]
     },
     "execution_count": 230,
     "metadata": {},
     "output_type": "execute_result"
    }
   ],
   "source": [
    "correct_sequence_pinyin(test_pinyin)"
   ]
  },
  {
   "cell_type": "code",
   "execution_count": 103,
   "metadata": {},
   "outputs": [],
   "source": [
    "def can_split(input_pinyin):\n",
    "    split_pinyin=splits(input_pinyin)\n",
    "    better=0\n",
    "    for item1,item2 in split_pinyin:\n",
    "        if item1 in PINYIN_COUNT.keys() and item2 in PINYIN_COUNT.keys():\n",
    "            return('can')\n",
    "    return('not')"
   ]
  },
  {
   "cell_type": "code",
   "execution_count": 186,
   "metadata": {},
   "outputs": [
    {
     "data": {
      "text/plain": [
       "'not'"
      ]
     },
     "execution_count": 186,
     "metadata": {},
     "output_type": "execute_result"
    }
   ],
   "source": [
    "can_split('shangqinghuadaxue')"
   ]
  },
  {
   "cell_type": "code",
   "execution_count": 66,
   "metadata": {},
   "outputs": [
    {
     "name": "stdout",
     "output_type": "stream",
     "text": [
      "e\n",
      "a\n",
      "o\n"
     ]
    }
   ],
   "source": [
    "for i in PINYIN_COUNT.keys():\n",
    "    if len(i)==1:\n",
    "        print(i)"
   ]
  },
  {
   "cell_type": "code",
   "execution_count": 105,
   "metadata": {},
   "outputs": [
    {
     "data": {
      "text/plain": [
       "'not'"
      ]
     },
     "execution_count": 105,
     "metadata": {},
     "output_type": "execute_result"
    }
   ],
   "source": [
    "can_split('tingg')"
   ]
  },
  {
   "cell_type": "code",
   "execution_count": 106,
   "metadata": {},
   "outputs": [
    {
     "data": {
      "text/plain": [
       "'not'"
      ]
     },
     "execution_count": 106,
     "metadata": {},
     "output_type": "execute_result"
    }
   ],
   "source": [
    "can_split(lianxu_pinyin)"
   ]
  },
  {
   "cell_type": "code",
   "execution_count": 111,
   "metadata": {},
   "outputs": [
    {
     "data": {
      "text/plain": [
       "'not'"
      ]
     },
     "execution_count": 111,
     "metadata": {},
     "output_type": "execute_result"
    }
   ],
   "source": [
    "can_split('tingffff')"
   ]
  },
  {
   "cell_type": "code",
   "execution_count": 108,
   "metadata": {},
   "outputs": [
    {
     "data": {
      "text/plain": [
       "'can'"
      ]
     },
     "execution_count": 108,
     "metadata": {},
     "output_type": "execute_result"
    }
   ],
   "source": [
    "can_split('nihao')"
   ]
  },
  {
   "cell_type": "code",
   "execution_count": 70,
   "metadata": {},
   "outputs": [],
   "source": [
    "def parse_pinyin2(input_pinyin):\n",
    "    k=10\n",
    "    result_pinyin=[]\n",
    "    right_pinyin=[]\n",
    "    left_pinyin=[]\n",
    "    while(k>0):\n",
    "        k-=1\n",
    "        split_pinyin=splits(input_pinyin)\n",
    "        better=0\n",
    "        for item1,item2 in split_pinyin:\n",
    "            #print(item1,item2)\n",
    "            p1=prob_1(item1)\n",
    "            p2=prob_1(item2)\n",
    "            if p1 > better:\n",
    "                #print(p1,better)\n",
    "                better=p1\n",
    "                pinyin1=item1\n",
    "                pinyin2=item2\n",
    "                #print('p1 is better')\n",
    "            if p2>better:\n",
    "                #print(p1,better)\n",
    "                better=p2\n",
    "                pinyin1=item1\n",
    "                pinyin2=item2\n",
    "                #print('p1 is better')\n",
    "        print(pinyin1,pinyin2)\n",
    "        if len(pinyin1)>len(pinyin2):\n",
    "            input_pinyin=pinyin1\n",
    "            right_pinyin.insert(0,pinyin2)\n",
    "            print(left_pinyin,right_pinyin)\n",
    "        else:\n",
    "            input_pinyin=pinyin2\n",
    "            left_pinyin.append(pinyin1)\n",
    "            print(left_pinyin,right_pinyin)\n",
    "        print(input_pinyin)\n",
    "    result_pinyin=[left_pinyin,right_pinyin]\n",
    "    print(result_pinyin)\n",
    "    return(result_pinyin)        "
   ]
  },
  {
   "cell_type": "code",
   "execution_count": 99,
   "metadata": {},
   "outputs": [],
   "source": [
    "def parse_pinyin3(input_pinyin):\n",
    "    print(input_pinyin)\n",
    "    result_pinyin=[]\n",
    "    right_pinyin=[]\n",
    "    left_pinyin=[]\n",
    "    while can_split(input_pinyin)!='not':  #可以继续拆分\n",
    "        split_pinyin=splits(input_pinyin)\n",
    "        print(result_pinyin)\n",
    "        better=0\n",
    "        for item1,item2 in split_pinyin:\n",
    "            print(item1,item2)\n",
    "            p1=prob_1(item1)\n",
    "            p2=prob_1(item2)\n",
    "            print(p1,p2)\n",
    "            if p1 > better:    #左侧被选出\n",
    "                print(p1,better)\n",
    "                better=p1\n",
    "                pinyin1=item1\n",
    "                pinyin2=item2\n",
    "                #print('p1 is better')\n",
    "            if p2>better:      #右侧被选出\n",
    "                print(p2,better)\n",
    "                better=p2\n",
    "                pinyin1=item1\n",
    "                pinyin2=item2\n",
    "                #print('p1 is better')\n",
    "        print(pinyin1,pinyin2)\n",
    "        if can_split(pinyin2)=='not':\n",
    "            input_pinyin=pinyin1\n",
    "            right_pinyin.insert(0,pinyin2)\n",
    "            print(left_pinyin,right_pinyin)\n",
    "        else:\n",
    "            input_pinyin=pinyin2\n",
    "            left_pinyin.append(pinyin1)\n",
    "            print(left_pinyin,right_pinyin)\n",
    "        print(input_pinyin)\n",
    "    result_pinyin=[left_pinyin,right_pinyin]\n",
    "    print(result_pinyin)\n",
    "    return(result_pinyin)        "
   ]
  },
  {
   "cell_type": "code",
   "execution_count": 100,
   "metadata": {},
   "outputs": [
    {
     "name": "stdout",
     "output_type": "stream",
     "text": [
      "不可以拆分\n"
     ]
    }
   ],
   "source": [
    "if can_split(lianxu_pinyin)=='not':\n",
    "    print('不可以拆分')"
   ]
  },
  {
   "cell_type": "code",
   "execution_count": 101,
   "metadata": {},
   "outputs": [
    {
     "name": "stdout",
     "output_type": "stream",
     "text": [
      "woyaoshangqinghua\n",
      "[[], []]\n"
     ]
    },
    {
     "data": {
      "text/plain": [
       "[[], []]"
      ]
     },
     "execution_count": 101,
     "metadata": {},
     "output_type": "execute_result"
    }
   ],
   "source": [
    "parse_pinyin3(lianxu_pinyin)"
   ]
  },
  {
   "cell_type": "code",
   "execution_count": 90,
   "metadata": {},
   "outputs": [
    {
     "name": "stdout",
     "output_type": "stream",
     "text": [
      "woyaoshangqinghua\n"
     ]
    }
   ],
   "source": [
    "print(lianxu_pinyin)"
   ]
  },
  {
   "cell_type": "code",
   "execution_count": 71,
   "metadata": {},
   "outputs": [
    {
     "name": "stdout",
     "output_type": "stream",
     "text": [
      "helloworld[]你好世界\\nn\\\\)`[]{}\\:;<>?{}|】你好世界【；‘：“》《\n"
     ]
    }
   ],
   "source": [
    "str =r\"hello,world!!%[545]你好234世界。。。\\n/n//\\\\!@#$%^&*()_+~`[]{}\\\":';<>?,./！@#￥%……&*（）——+{}|、】你好234世界【；‘：“？》《，。、\"\n",
    "#str = re.sub(\"[A-Za-z0-9\\!\\%\\[\\]\\,\\。]\", \"\", str)\n",
    "#print(str)\n",
    "#temp = str.decode(\"utf8\")\n",
    "#string = re.sub(\"[\\s+\\.\\!\\/_,$%^*(+\\\"\\']+|[+——！，。？、~@#￥%……&*（）]+\".encode('utf-8').decode(\"utf-8\"), \"\".encode('utf-8').decode(\"utf-8\"),str)\n",
    "string = re.sub(\"[\\s+\\.\\!\\/_,$%^*(+\\\"\\']+|[+——！，。？、~@#￥%……&*（）\\d]+\", \"\",str)\n",
    "print(string)"
   ]
  },
  {
   "cell_type": "code",
   "execution_count": 72,
   "metadata": {},
   "outputs": [
    {
     "name": "stdout",
     "output_type": "stream",
     "text": [
      "hello,world!!%[545]你好23acDEC,.,.4世界。。。\\\\n\\u3000\\u3000\\n/n//\\\\!@#$%^&*()_+~`[]{}\\\":';<>?,./！@#￥%……&*（）——+{}|、】你好234世界“”【；‘’：？》《，。、\n",
      "你好世界。。。~{}！￥……（）——{}|、】你好世界“”【；‘’：？》《，。、\n"
     ]
    }
   ],
   "source": [
    "# <span style=\"font-size:18px;\">\n",
    "#-*-coding:utf-8-*-\n",
    "import re\n",
    "temp =r\"hello,world!!%[545]你好23acDEC,.,.4世界。。。\\\\n\\u3000\\u3000\\n/n//\\\\!@#$%^&*()_+~`[]{}\\\":';<>?,./！@#￥%……&*（）——+{}|、】你好234世界“”【；‘’：？》《，。、\"\n",
    "print(temp)\n",
    "#temp = \"想做/ 兼_职/学生_/ 的 、加,我Q：  1 5.  8 0. ！！？？  8 6 。0.  2。 3     有,惊,喜,哦\"\n",
    "#temp = temp.encode(\"utf8\").decode(\"utf8\")\n",
    "#string = re.sub(\"[\\s+\\.\\!\\/_,$%^*(+\\\"\\']+|[+——！，。？、~@#￥%……&*（）]+\".encode(\"utf8\"), \"\".decode(\"utf8\"),temp)\n",
    "#string = re.sub(\"[a-zA-Z\\s+\\.\\!\\/_,$%^*(+\\\"\\']+|[+——！，。？、：~@#￥%……&*（）\\d]+\",\"\",temp)\n",
    "#string=re.sub(\"[\\s+\\.\\!\\/_,$%^*(+\\\"\\']+|[+——！，。？、~@#￥%……&*（）]+\".encode('utf-8').decode('utf-8'), \"\".encode('utf-8').decode('utf-8'),temp)\n",
    "#string=re.sub(\"[a-zA-Z\\d\\s+\\.\\!\\/_,$%^*(+\\\"\\']+|[+——！，。？、~@#￥%……&*（）]+\".encode('utf-8').decode('utf-8'), \"\".encode('utf-8').decode('utf-8'),temp)\n",
    "#string = re.sub(\"[\\\\\\a-z\\\\\\{\\\\\\}\\\\\\|;:A-Z\\d\\s+\\.\\!\\/_,$%^*(+\\\"\\')]+|[：；‘’+——()?【】《》“”！，。？、~@#￥%……&*（）]+\", \"\",temp)\n",
    "#string=re.sub('[*]','',temp)\n",
    "#string=re.sub('[\\\\\\]','',temp)\n",
    "string=re.sub('[\\a-z]+','',temp)\n",
    "\n",
    "#string= re.sub('[a-z]','',temp)\n",
    "#string= re.sub('[\\[\\]?,.!@#$\\^\\$\\&()_+{}<>\\*%\\\\\\/a-zA-Z\\d]+|[。]','',temp)\n",
    "#string= re.sub('[a-zA-Z]','',temp)\n",
    "#string= re.sub('[a-zA-Z,.:;''!%\\d{}]+|[！……—|（￥）~。【】《》“”；：，、‘’？]','',temp)\n",
    "#string= re.sub('[a-zA-Z,.:;''!%\\d{}]+|[！……—|（￥）~。【】《》“”；：，、‘’？]','',temp)\n",
    "\n",
    "print (string)\n",
    "#</span>"
   ]
  },
  {
   "cell_type": "code",
   "execution_count": 73,
   "metadata": {},
   "outputs": [
    {
     "data": {
      "text/plain": [
       "['carefully', 'quickly']"
      ]
     },
     "execution_count": 73,
     "metadata": {},
     "output_type": "execute_result"
    }
   ],
   "source": [
    "text = \"He was carefully disguised but captured quickly by police.()&*%^\"\n",
    "re.findall(r\"\\w+ly\", text)\n",
    "#re.findall(r\"[a-zA-Z]+\",text)"
   ]
  },
  {
   "cell_type": "code",
   "execution_count": 74,
   "metadata": {},
   "outputs": [
    {
     "name": "stdout",
     "output_type": "stream",
     "text": [
      "想做兼职学生的加我Q1588623有惊喜哦thanks\n"
     ]
    }
   ],
   "source": [
    "#sample = 'I am from 我是一个美国人。We should be \\nfriends. 朋友。中華人民共和國'\n",
    "sample = \"想做/ 兼_职/学生_/ 的 、加,我Q：  1 5.  8 0. ！！？？  8 6 。0.  2。 3     有,惊,喜,哦 thanks.\"\n",
    "str=[]\n",
    "line=''\n",
    "for n in re.findall('[a-zA-Z1-9+\\u4e00-\\u9fff]+',sample):\n",
    "    line+= n\n",
    "print(line)    "
   ]
  },
  {
   "cell_type": "code",
   "execution_count": null,
   "metadata": {},
   "outputs": [],
   "source": []
  },
  {
   "cell_type": "code",
   "execution_count": null,
   "metadata": {},
   "outputs": [],
   "source": []
  }
 ],
 "metadata": {
  "kernelspec": {
   "display_name": "Python 3",
   "language": "python",
   "name": "python3"
  },
  "language_info": {
   "codemirror_mode": {
    "name": "ipython",
    "version": 3
   },
   "file_extension": ".py",
   "mimetype": "text/x-python",
   "name": "python",
   "nbconvert_exporter": "python",
   "pygments_lexer": "ipython3",
   "version": "3.7.4"
  },
  "toc": {
   "base_numbering": 1,
   "nav_menu": {},
   "number_sections": true,
   "sideBar": true,
   "skip_h1_title": false,
   "title_cell": "Table of Contents",
   "title_sidebar": "Contents",
   "toc_cell": false,
   "toc_position": {},
   "toc_section_display": true,
   "toc_window_display": false
  },
  "varInspector": {
   "cols": {
    "lenName": 16,
    "lenType": 16,
    "lenVar": 40
   },
   "kernels_config": {
    "python": {
     "delete_cmd_postfix": "",
     "delete_cmd_prefix": "del ",
     "library": "var_list.py",
     "varRefreshCmd": "print(var_dic_list())"
    },
    "r": {
     "delete_cmd_postfix": ") ",
     "delete_cmd_prefix": "rm(",
     "library": "var_list.r",
     "varRefreshCmd": "cat(var_dic_list()) "
    }
   },
   "oldHeight": 122.4,
   "position": {
    "height": "210.4px",
    "left": "790px",
    "right": "20px",
    "top": "120px",
    "width": "250px"
   },
   "types_to_exclude": [
    "module",
    "function",
    "builtin_function_or_method",
    "instance",
    "_Feature"
   ],
   "varInspector_section_display": "block",
   "window_display": false
  }
 },
 "nbformat": 4,
 "nbformat_minor": 2
}
